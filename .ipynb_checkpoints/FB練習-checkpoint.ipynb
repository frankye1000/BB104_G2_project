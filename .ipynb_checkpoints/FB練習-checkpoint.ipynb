{
 "cells": [
  {
   "cell_type": "code",
   "execution_count": 36,
   "metadata": {
    "collapsed": true,
    "scrolled": true
   },
   "outputs": [],
   "source": [
    "import requests\n",
    "import pandas as pd\n",
    "from bs4 import BeautifulSoup\n",
    "from dateutil.parser import parse\n",
    "\n",
    "group_id = '121945854552002'\n",
    "token = 'EAACEdEose0cBAE5Wjpl5wj3LVAXYZAkgFDSHypYxxigktMa8bVtHqEL7o5AP4ipm6jkw5MSkXxHZBG56If1kQSeilEVPTSJRm6AvmuVH80ewRIYuqUBW3PSA9WXCBkE0yka0YCYfytLYZAVQbIbXTFIg1huSbzP1xijeidQ6ogied1s44dSryxg7AO1xF0qZCV5WnyKPrQZDZD'\n",
    "\n",
    "#獲取API內容\n",
    "\n",
    "res = requests.get('https://graph.facebook.com/v2.9/{}/feed?access_token={}'.format(group_id, token))\n",
    "\n",
    "#使用迴圈爬取並放到list\n",
    "\n",
    "posts = []\n",
    "for post in res.json()['data']:\n",
    "    posts.append([parse(post.get('updated_time')), post.get('id'), post.get('message'), post.get('story')])\n",
    "\n",
    "#輸出內容\n",
    "\n",
    "df = pd.DataFrame(posts) \n",
    "df.to_csv(\"fb.csv\",index=False)"
   ]
  },
  {
   "cell_type": "code",
   "execution_count": 45,
   "metadata": {},
   "outputs": [
    {
     "data": {
      "text/plain": [
       "{'groups': {'data': [{'id': '546314315523495',\n",
       "    'name': '國軍空儀研究性社團',\n",
       "    'privacy': 'SECRET'},\n",
       "   {'id': '747843482003060', 'name': '張同學的身高真的需要當兵嗎?', 'privacy': 'SECRET'},\n",
       "   {'id': '1448509805446642', 'name': '交友聯誼社', 'privacy': 'SECRET'},\n",
       "   {'id': '481867618623468',\n",
       "    'name': '失敗者聯盟Legend Of Losers',\n",
       "    'privacy': 'SECRET'},\n",
       "   {'id': '1429757897240946', 'name': '雞友社 寒假出遊團', 'privacy': 'SECRET'},\n",
       "   {'id': '645931048757342',\n",
       "    'name': '無敵鐵金剛芭比娃娃魚翔詮任賢齊天大聖',\n",
       "    'privacy': 'SECRET'},\n",
       "   {'id': '434168893304392', 'name': '海神三叉戟', 'privacy': 'SECRET'},\n",
       "   {'id': '228357680626142', 'name': '影創2:復仇之戰', 'privacy': 'CLOSED'},\n",
       "   {'id': '343849692365245', 'name': '凱校青五第六組', 'privacy': 'SECRET'},\n",
       "   {'id': '121945854552002', 'name': '竹中64屆一年十三班', 'privacy': 'SECRET'}],\n",
       "  'paging': {'cursors': {'after': 'QVFIUms5V3ZAucFRabmh1a3BDQWFJZAm01OWtaUURpT0EycS1rZAWFLUGNoV3NHUjVmbUd4N1pEM0dZAeW1EM0FjQ2VHNGZALVlBJQnlZAZAl9uSUlKVnFSMktxZAWR3',\n",
       "    'before': 'QVFIUkpWQ3BUblJZAUjMtRE15UF9PTEFmY19HTTRsUGdrQ2FGYXQ2Rl9sb2l4S2xqRzhWSENoalFDc3FWRHljb1FWRUdJUGhzT3ZAOcHM2dzFldjhVdGpsMFJn'}}},\n",
       " 'id': '662278850534925'}"
      ]
     },
     "execution_count": 45,
     "metadata": {},
     "output_type": "execute_result"
    }
   ],
   "source": [
    "token = 'EAACEdEose0cBAFjzE271UFDaKBcH5yiRiUiJvWD73WLq6oXl5TLpYxCi3lwzgH3kbjzYaDAgeoI3n1MDQj5KiejZCbl3O2N4HW3fvGBaZBaMqYbExWswmJ9biqVdmY40y2ifpv6Fr9ZAOjbPKxTOCcKuQpZCiMJydf79ua1Y5cHMuVr6935LHSQEq7VL1b9EODrZCkMNKZAQZDZD'\n",
    "resp = requests.get('https://graph.facebook.com/v2.10/me?fields=groups&access_token={}'.format(token))\n",
    "resp.json()\n",
    "\n"
   ]
  },
  {
   "cell_type": "code",
   "execution_count": 37,
   "metadata": {},
   "outputs": [
    {
     "name": "stdout",
     "output_type": "stream",
     "text": [
      "Collecting facebook-sdk\n",
      "  Downloading facebook-sdk-2.0.0.tar.gz\n",
      "Requirement already satisfied: requests in c:\\users\\java\\anaconda3\\lib\\site-packages (from facebook-sdk)\n",
      "Requirement already satisfied: chardet<3.1.0,>=3.0.2 in c:\\users\\java\\anaconda3\\lib\\site-packages (from requests->facebook-sdk)\n",
      "Requirement already satisfied: certifi>=2017.4.17 in c:\\users\\java\\anaconda3\\lib\\site-packages (from requests->facebook-sdk)\n",
      "Requirement already satisfied: idna<2.7,>=2.5 in c:\\users\\java\\anaconda3\\lib\\site-packages (from requests->facebook-sdk)\n",
      "Requirement already satisfied: urllib3<1.23,>=1.21.1 in c:\\users\\java\\anaconda3\\lib\\site-packages (from requests->facebook-sdk)\n",
      "Building wheels for collected packages: facebook-sdk\n",
      "  Running setup.py bdist_wheel for facebook-sdk: started\n",
      "  Running setup.py bdist_wheel for facebook-sdk: finished with status 'done'\n",
      "  Stored in directory: C:\\Users\\Java\\AppData\\Local\\pip\\Cache\\wheels\\74\\8d\\c2\\632884cecf25d1a584677403dc4b149563e6336d2cd8d2834c\n",
      "Successfully built facebook-sdk\n",
      "Installing collected packages: facebook-sdk\n",
      "Successfully installed facebook-sdk-2.0.0\n"
     ]
    }
   ],
   "source": [
    "!pip install facebook-sdk"
   ]
  },
  {
   "cell_type": "code",
   "execution_count": null,
   "metadata": {
    "collapsed": true
   },
   "outputs": [],
   "source": []
  }
 ],
 "metadata": {
  "kernelspec": {
   "display_name": "Python 3",
   "language": "python",
   "name": "python3"
  },
  "language_info": {
   "codemirror_mode": {
    "name": "ipython",
    "version": 3
   },
   "file_extension": ".py",
   "mimetype": "text/x-python",
   "name": "python",
   "nbconvert_exporter": "python",
   "pygments_lexer": "ipython3",
   "version": "3.6.1"
  }
 },
 "nbformat": 4,
 "nbformat_minor": 2
}
