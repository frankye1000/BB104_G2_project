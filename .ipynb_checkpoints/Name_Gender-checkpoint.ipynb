{
 "cells": [
  {
   "cell_type": "code",
   "execution_count": 1,
   "metadata": {},
   "outputs": [
    {
     "name": "stdout",
     "output_type": "stream",
     "text": [
      "Collecting ngender\n",
      "  Downloading ngender-0.1.1.tar.gz (48kB)\n",
      "Building wheels for collected packages: ngender\n",
      "  Running setup.py bdist_wheel for ngender: started\n",
      "  Running setup.py bdist_wheel for ngender: finished with status 'done'\n",
      "  Stored in directory: C:\\Users\\Java\\AppData\\Local\\pip\\Cache\\wheels\\e2\\c7\\b3\\8d8d6ef3cd30802aac60e4cd8973063114c4f6f597395a568b\n",
      "Successfully built ngender\n",
      "Installing collected packages: ngender\n",
      "Successfully installed ngender-0.1.1\n"
     ]
    }
   ],
   "source": [
    "! pip install ngender"
   ]
  },
  {
   "cell_type": "code",
   "execution_count": 23,
   "metadata": {
    "scrolled": true
   },
   "outputs": [
    {
     "name": "stdout",
     "output_type": "stream",
     "text": [
      "male\n",
      "female\n",
      "female\n",
      "male\n",
      "female\n",
      "male\n",
      "male\n",
      "male\n",
      "female\n",
      "male\n",
      "female\n",
      "male\n",
      "male\n",
      "male\n",
      "female\n",
      "male\n",
      "male\n",
      "male\n",
      "male\n",
      "male\n",
      "male\n",
      "male\n",
      "male\n",
      "female\n",
      "male\n",
      "male\n"
     ]
    }
   ],
   "source": [
    "import ngender\n",
    "name = [\"楊承縉\",\"柳美伊\",'陳淑莉','許爵麟','張迪雅','李慕義','蔡昀翰','葉詠富','潘思融','許少鴻','王伊辰','郭栢榕','黃承謙'\n",
    "        ,'馬英傑','彭懋芝','翁崇恒','謝有聞','歐子顥','蘇昱哲','陳俊宏','楊位平','潘沐宣','林冠廷','董俊秀','洪國誠','張櫻寶']\n",
    "for n in name:\n",
    "    print(ngender.guess(n)[0])\n"
   ]
  },
  {
   "cell_type": "code",
   "execution_count": null,
   "metadata": {},
   "outputs": [],
   "source": []
  },
  {
   "cell_type": "code",
   "execution_count": null,
   "metadata": {},
   "outputs": [],
   "source": []
  },
  {
   "cell_type": "code",
   "execution_count": null,
   "metadata": {
    "collapsed": true
   },
   "outputs": [],
   "source": []
  }
 ],
 "metadata": {
  "kernelspec": {
   "display_name": "Python 3",
   "language": "python",
   "name": "python3"
  },
  "language_info": {
   "codemirror_mode": {
    "name": "ipython",
    "version": 3
   },
   "file_extension": ".py",
   "mimetype": "text/x-python",
   "name": "python",
   "nbconvert_exporter": "python",
   "pygments_lexer": "ipython3",
   "version": "3.6.1"
  }
 },
 "nbformat": 4,
 "nbformat_minor": 2
}
