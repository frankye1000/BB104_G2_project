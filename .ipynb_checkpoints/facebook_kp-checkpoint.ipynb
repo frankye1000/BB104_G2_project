{
 "cells": [
  {
   "cell_type": "code",
   "execution_count": 3,
   "metadata": {},
   "outputs": [],
   "source": [
    "import requests\n",
    "import json\n",
    "import facebook\n",
    "import re\n",
    "from datetime import datetime\n",
    "import concurrent.futures\n",
    "# import pymongo"
   ]
  },
  {
   "cell_type": "code",
   "execution_count": 4,
   "metadata": {},
   "outputs": [
    {
     "ename": "NameError",
     "evalue": "name 'token' is not defined",
     "output_type": "error",
     "traceback": [
      "\u001b[1;31m---------------------------------------------------------------------------\u001b[0m",
      "\u001b[1;31mNameError\u001b[0m                                 Traceback (most recent call last)",
      "\u001b[1;32m<ipython-input-4-31ebfa775919>\u001b[0m in \u001b[0;36m<module>\u001b[1;34m()\u001b[0m\n\u001b[0;32m      3\u001b[0m \u001b[1;31m# token = input(\"your token\")\u001b[0m\u001b[1;33m\u001b[0m\u001b[1;33m\u001b[0m\u001b[0m\n\u001b[0;32m      4\u001b[0m \u001b[0mperson\u001b[0m  \u001b[1;33m=\u001b[0m \u001b[1;34m\"DoctorKoWJ\"\u001b[0m\u001b[1;33m\u001b[0m\u001b[0m\n\u001b[1;32m----> 5\u001b[1;33m \u001b[0mgroup_id\u001b[0m \u001b[1;33m=\u001b[0m \u001b[0mrequests\u001b[0m\u001b[1;33m.\u001b[0m\u001b[0mget\u001b[0m\u001b[1;33m(\u001b[0m\u001b[1;34m'https://graph.facebook.com/?id={}&access_token={}'\u001b[0m\u001b[1;33m.\u001b[0m\u001b[0mformat\u001b[0m\u001b[1;33m(\u001b[0m\u001b[0mperson\u001b[0m\u001b[1;33m,\u001b[0m \u001b[0mtoken\u001b[0m\u001b[1;33m)\u001b[0m\u001b[1;33m)\u001b[0m\u001b[1;33m.\u001b[0m\u001b[0mjson\u001b[0m\u001b[1;33m(\u001b[0m\u001b[1;33m)\u001b[0m\u001b[1;33m[\u001b[0m\u001b[1;34m\"id\"\u001b[0m\u001b[1;33m]\u001b[0m\u001b[1;33m\u001b[0m\u001b[0m\n\u001b[0m\u001b[0;32m      6\u001b[0m \u001b[0mgraph\u001b[0m \u001b[1;33m=\u001b[0m \u001b[0mfacebook\u001b[0m\u001b[1;33m.\u001b[0m\u001b[0mGraphAPI\u001b[0m\u001b[1;33m(\u001b[0m\u001b[0maccess_token\u001b[0m \u001b[1;33m=\u001b[0m \u001b[0mtoken\u001b[0m\u001b[1;33m)\u001b[0m\u001b[1;33m\u001b[0m\u001b[0m\n",
      "\u001b[1;31mNameError\u001b[0m: name 'token' is not defined"
     ]
    }
   ],
   "source": [
    "# fan_page = \"DoctorKoWJ\"\n",
    "\n",
    "# token = input(\"your token\")\n",
    "person  = \"DoctorKoWJ\"\n",
    "group_id = requests.get('https://graph.facebook.com/?id={}&access_token={}'.format(person, token)).json()[\"id\"]\n",
    "graph = facebook.GraphAPI(access_token = token)"
   ]
  },
  {
   "cell_type": "code",
   "execution_count": null,
   "metadata": {
    "collapsed": true
   },
   "outputs": [],
   "source": [
    "def get_comments_of_comment(comment_id):\n",
    "    try:\n",
    "        comments_of_comment = []\n",
    "        obj_page = graph.request(comment_id, {'fields':'comments{created_time,id,message,likes.limit(0).summary(True)}'})[\"comments\"]\n",
    "\n",
    "        while True:\n",
    "            for comment in obj_page[\"data\"]:\n",
    "                comment[\"created_time\"] = datetime.strptime(comment[\"created_time\"], \"%Y-%m-%dT%H:%M:%S+0000\")\n",
    "                comment[\"likes\"] = comment[\"likes\"][\"summary\"][\"total_count\"]\n",
    "                comments_of_comment.append(comment)\n",
    "\n",
    "\n",
    "            if \"next\" in obj_page[\"paging\"]:\n",
    "                next_page = obj_page[\"paging\"][\"next\"]\n",
    "                obj_page = requests.get(next_page).json()\n",
    "            else:\n",
    "                break\n",
    "        return comments_of_comment\n",
    "    except:\n",
    "        return []"
   ]
  },
  {
   "cell_type": "code",
   "execution_count": null,
   "metadata": {
    "collapsed": true
   },
   "outputs": [],
   "source": [
    "def get_comments(post_id):\n",
    "    comments = []\n",
    "    obj_page = graph.request(post_id, {'fields':'comments{created_time,id,message,likes.limit(0).summary(True)}'})[\"comments\"]\n",
    "    \n",
    "    while True:\n",
    "        for comment in obj_page[\"data\"]:\n",
    "            comment[\"created_time\"] = datetime.strptime(comment[\"created_time\"], \"%Y-%m-%dT%H:%M:%S+0000\")\n",
    "            comment[\"likes\"] = comment[\"likes\"][\"summary\"][\"total_count\"]\n",
    "            comment[\"comments\"] = get_comments_of_comment(comment[\"id\"])\n",
    "            comments.append(comment)\n",
    "\n",
    "\n",
    "        if \"next\" in obj_page[\"paging\"]:\n",
    "            next_page = obj_page[\"paging\"][\"next\"]\n",
    "            obj_page = requests.get(next_page).json()\n",
    "        else:\n",
    "            break\n",
    "        \n",
    "    return comments\n",
    "    \n",
    "    # save to mongoDB"
   ]
  },
  {
   "cell_type": "code",
   "execution_count": null,
   "metadata": {
    "collapsed": true
   },
   "outputs": [],
   "source": [
    "def get_posts():\n",
    "    kp_posts = []\n",
    "    obj_page = graph.request(group_id,{'fields':'posts.since(2017-11-20){created_time, message,id,likes.limit(0).summary(True),shares,link}'})[\"posts\"]\n",
    "\n",
    "    while True:\n",
    "        for post in obj_page[\"data\"]:\n",
    "            post[\"created_time\"] = datetime.strptime(post[\"created_time\"], \"%Y-%m-%dT%H:%M:%S+0000\")\n",
    "            post[\"likes\"] = post[\"likes\"][\"summary\"][\"total_count\"]\n",
    "            post[\"shares\"] = post[\"shares\"][\"count\"]\n",
    "            kp_posts.append(post)\n",
    "            \n",
    "            # save the post to mongoDB\n",
    "\n",
    "\n",
    "        if \"next\" in obj_page[\"paging\"]:\n",
    "            next_page = obj_page[\"paging\"][\"next\"]\n",
    "            obj_page = requests.get(next_page).json()\n",
    "        else:\n",
    "            break\n",
    "    \n",
    "    return kp_posts"
   ]
  },
  {
   "cell_type": "code",
   "execution_count": null,
   "metadata": {
    "collapsed": true
   },
   "outputs": [],
   "source": [
    "def main():\n",
    "    kp_posts = get_posts()\n",
    "    post_ids = [post[\"id\"] for post in kp_posts]\n",
    "    with open(\"./csv/post_ids.csv\", \"w\") as f:\n",
    "        f.write(json.dumps(post_ids))\n",
    "    \n",
    "    with concurrent.futures.ThreadPoolExecutor(10) as executor:\n",
    "        executor.map(get_comments, post_ids)"
   ]
  },
  {
   "cell_type": "code",
   "execution_count": null,
   "metadata": {
    "collapsed": true
   },
   "outputs": [],
   "source": [
    "if __name__ == \"__main__\":\n",
    "    main()"
   ]
  },
  {
   "cell_type": "code",
   "execution_count": null,
   "metadata": {
    "collapsed": true
   },
   "outputs": [],
   "source": []
  },
  {
   "cell_type": "code",
   "execution_count": null,
   "metadata": {},
   "outputs": [],
   "source": [
    "comments = []\n",
    "obj_page = graph.request(\"136845026417486_1177536832348295\", {'fields':'comments{created_time,id,message,likes.limit(0).summary(True)}'})[\"comments\"]\n",
    "comment = obj_page[\"data\"][0]\n",
    "comment[\"created_time\"] = datetime.strptime(comment[\"created_time\"], \"%Y-%m-%dT%H:%M:%S+0000\")\n",
    "comment[\"likes\"] = comment[\"likes\"][\"summary\"][\"total_count\"]\n",
    "comment[\"comments\"] = get_comments_of_comment(comment[\"id\"])\n",
    "comments.append(comment)\n",
    "comments"
   ]
  },
  {
   "cell_type": "code",
   "execution_count": null,
   "metadata": {
    "collapsed": true
   },
   "outputs": [],
   "source": []
  },
  {
   "cell_type": "code",
   "execution_count": null,
   "metadata": {
    "scrolled": true
   },
   "outputs": [],
   "source": [
    "get_comments(\"136845026417486_1177536832348295\")"
   ]
  },
  {
   "cell_type": "code",
   "execution_count": null,
   "metadata": {
    "collapsed": true
   },
   "outputs": [],
   "source": [
    "# function get_comments test\n",
    "\n",
    "post = {}\n",
    "post[\"id\"] = \"136845026417486_1177536832348295\"\n",
    "comments = []\n",
    "obj_page = graph.request(\"136845026417486_1177536832348295\", {'fields':'comments{created_time,id,message,likes.limit(0).summary(True)}'})[\"comments\"]\n",
    "\n",
    "while True:\n",
    "    for comment in obj_page[\"data\"]:\n",
    "        comment[\"created_time\"] = datetime.strptime(comment[\"created_time\"], \"%Y-%m-%dT%H:%M:%S+0000\")\n",
    "        comment[\"likes\"] = comment[\"likes\"][\"summary\"][\"total_count\"]\n",
    "        comments.append(comment)\n",
    "\n",
    "\n",
    "    if \"next\" in obj_page[\"paging\"]:\n",
    "        next_page = obj_page[\"paging\"][\"next\"]\n",
    "        obj_page = requests.get(next_page).json()\n",
    "    else:\n",
    "        break\n",
    "post[\"comments\"] = comments"
   ]
  },
  {
   "cell_type": "code",
   "execution_count": null,
   "metadata": {},
   "outputs": [],
   "source": [
    "post"
   ]
  },
  {
   "cell_type": "code",
   "execution_count": null,
   "metadata": {
    "collapsed": true
   },
   "outputs": [],
   "source": []
  },
  {
   "cell_type": "code",
   "execution_count": null,
   "metadata": {
    "collapsed": true
   },
   "outputs": [],
   "source": [
    "# test\n",
    "posts = graph.get_connections(id = 'me', connection_name='friends')\n",
    "graph.get_connections(id = 'me', connection_name='friends', limit=100, fields=['message', 'id', 'from', 'type', 'picture', 'link', 'created_time', 'updated_time'])"
   ]
  }
 ],
 "metadata": {
  "kernelspec": {
   "display_name": "Python 3",
   "language": "python",
   "name": "python3"
  },
  "language_info": {
   "codemirror_mode": {
    "name": "ipython",
    "version": 3
   },
   "file_extension": ".py",
   "mimetype": "text/x-python",
   "name": "python",
   "nbconvert_exporter": "python",
   "pygments_lexer": "ipython3",
   "version": "3.6.1"
  }
 },
 "nbformat": 4,
 "nbformat_minor": 2
}
