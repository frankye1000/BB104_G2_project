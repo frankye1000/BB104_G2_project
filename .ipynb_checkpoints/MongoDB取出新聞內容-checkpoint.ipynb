{
 "cells": [
  {
   "cell_type": "code",
   "execution_count": 60,
   "metadata": {},
   "outputs": [],
   "source": [
    "from pymongo import MongoClient\n",
    "client = MongoClient(\"mongodb://10.120.37.108:27017\")\n",
    "db = client[\"news_cleaned\"]\n",
    "collection = db[\"liberty_news_cleaned\"]\n",
    "contents = collection.find({},{\"content\":1,\"_id\":0})\n",
    "\n",
    "content_string = \"\"\n",
    "for content in contents:\n",
    "    content_string += content[\"content\"]"
   ]
  },
  {
   "cell_type": "code",
   "execution_count": 58,
   "metadata": {
    "scrolled": false
   },
   "outputs": [
    {
     "data": {
      "text/plain": [
       "'今年 拆 大埔 明年 拆 政府 反服貿 反 黑箱 二 一三年 最後 天 政府 不滿 公民 昨晚 齊聚 自由 廣場 大會師 舉行 公民 不服 跨年夜 關廠 工人 反服貿 團體 廢核 行腳 團等 社運 團體 齊聚一堂 馬政府 算 一年 總帳 馬總統 聽見 人民 不滿 並將 今年 七 合一 選舉 選票 進行 全面 政治 革命 廢核 行腳 團自 去年 雙十節 核四廠 門前 啟程 後 歷經 八十四天 接力 環島 昨天 返抵 台北市 自由 廣場 前 主辦 公民 不服 跨年夜 晚會 持續 整夜 至今 天 元旦 清晨 且將 今早 六點 半 總統 府前 凱達格蘭大道 舉行 廢核 愛 行動 新 元旦 升起 反核 旗 昨晚 晚會 由大 學士 樂團 炒熱 氣氛 台灣 民謠 大師 陳明章 多個 樂團 接力 開唱 樂手 高喊 台灣 兩大 毒瘤 國民黨 共產黨 應該 國民黨 去 吃 屎 明明 流亡 政府 還自 以為 首都 南京 寒風 舉辦 晚會 不減 民眾 參與 熱情 廢核 行腳 團 發言人 潘翰聲 表示 反 黑箱 服貿 苑裡 反瘋車 反 媒體 壟斷 反 大埔 拆遷 馬政府 不理 民意 台灣 正 面臨 民主 空前 危機 潘翰聲 呼籲 全民 應 今年 底 七 合一 選舉 選票 進行 全面 政治 革命 地球 公民 基金會 董事長 廖本 全則 痛批 政府 強拆 大埔 事件 嚴重 戕害 土地 正義 黑色 島國 青年 痛批 兩岸 服貿協議 根本 黑箱 關廠 工人 泣訴 棺材本 政府 追討 政府 財團 傾斜 卻 不顧 勞工 權益 反 媒體 壟斷 多元 成家 諸多 議題 民眾 紛紛 要求 政府 必須 正視 台灣 民眾 心聲 鹽寮 反核 自救會 會長 吳文樟 則指 馬政府 全台 最大 詐騙 集團 核四 蓋 三十三年 還 沒完 專門 詐欺 人民 血汗錢 關廠 工人 身穿 寫有 悲 怨怒 幹 黑衣 高呼 無能 馬政府 討債 拚 經濟 身體 工具 對抗 不公 義 跨年 倒數 時分 民眾 高喊 美麗灣 拆 拆 拆 愛 子孫 還阮 土地 跨年夜 後 半場 設置 公民 行動 論壇 東海岸 狼煙 論壇 徹夜 帳篷'"
      ]
     },
     "execution_count": 58,
     "metadata": {},
     "output_type": "execute_result"
    }
   ],
   "source": [
    "content_string"
   ]
  },
  {
   "cell_type": "code",
   "execution_count": 62,
   "metadata": {},
   "outputs": [],
   "source": [
    "import json\n",
    "with open(\"news.txt\",\"w\",encoding = 'utf-8') as f:\n",
    "    f.write(content_string)"
   ]
  },
  {
   "cell_type": "code",
   "execution_count": null,
   "metadata": {
    "collapsed": true
   },
   "outputs": [],
   "source": []
  }
 ],
 "metadata": {
  "kernelspec": {
   "display_name": "Python 3",
   "language": "python",
   "name": "python3"
  },
  "language_info": {
   "codemirror_mode": {
    "name": "ipython",
    "version": 3
   },
   "file_extension": ".py",
   "mimetype": "text/x-python",
   "name": "python",
   "nbconvert_exporter": "python",
   "pygments_lexer": "ipython3",
   "version": "3.6.1"
  }
 },
 "nbformat": 4,
 "nbformat_minor": 2
}
