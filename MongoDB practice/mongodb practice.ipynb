{
 "cells": [
  {
   "cell_type": "code",
   "execution_count": 1,
   "metadata": {},
   "outputs": [
    {
     "name": "stdout",
     "output_type": "stream",
     "text": [
      "Requirement already satisfied: pymongo in c:\\users\\java\\anaconda3\\lib\\site-packages\n"
     ]
    }
   ],
   "source": [
    "! pip install pymongo"
   ]
  },
  {
   "cell_type": "code",
   "execution_count": 1,
   "metadata": {
    "collapsed": true
   },
   "outputs": [],
   "source": [
    "######## 建立連線\n",
    "import pymongo\n",
    "from pymongo import MongoClient   \n",
    "client = MongoClient('mongodb://127.0.0.1:27017/')"
   ]
  },
  {
   "cell_type": "code",
   "execution_count": 2,
   "metadata": {
    "collapsed": true
   },
   "outputs": [],
   "source": [
    "######## 創造db \"test\"\n",
    "db = client[\"test\"] "
   ]
  },
  {
   "cell_type": "code",
   "execution_count": 3,
   "metadata": {
    "collapsed": true
   },
   "outputs": [],
   "source": [
    "######## 創建桶子 \"iii\"\n",
    "collection = db[\"iii\"] "
   ]
  },
  {
   "cell_type": "code",
   "execution_count": 4,
   "metadata": {
    "collapsed": true
   },
   "outputs": [],
   "source": [
    "######## 做一個字典\n",
    "post = { \"author\":\"frnak\",\n",
    "    \"text\":\"I am handsome\"}\n"
   ]
  },
  {
   "cell_type": "code",
   "execution_count": 5,
   "metadata": {
    "collapsed": true
   },
   "outputs": [],
   "source": [
    "######## 只插入一筆資料\n",
    "collection.insert_one(post)"
   ]
  },
  {
   "cell_type": "code",
   "execution_count": 6,
   "metadata": {},
   "outputs": [
    {
     "name": "stdout",
     "output_type": "stream",
     "text": [
      "{'_id': ObjectId('5a2a03a80139d52028138f81'),\n",
      " 'author': 'frnak',\n",
      " 'text': 'I am handsome'}\n"
     ]
    }
   ],
   "source": [
    "######## 只找出一筆資料\n",
    "import pprint\n",
    "pprint.pprint(collection.find_one())"
   ]
  },
  {
   "cell_type": "code",
   "execution_count": 17,
   "metadata": {
    "collapsed": true
   },
   "outputs": [],
   "source": [
    "####### 再做一筆資料\n",
    "import datetime\n",
    "post = {\n",
    "    \"author\":\"yyyyyy\",\n",
    "    \"text\":\"I am good\",\n",
    "    \"age\":25,\n",
    "    \"date\": datetime.datetime.utcnow()\n",
    "}"
   ]
  },
  {
   "cell_type": "code",
   "execution_count": 18,
   "metadata": {
    "collapsed": true
   },
   "outputs": [],
   "source": [
    "####### 再插入一筆資料\n",
    "collection.insert_one(post)"
   ]
  },
  {
   "cell_type": "code",
   "execution_count": 20,
   "metadata": {
    "scrolled": true
   },
   "outputs": [
    {
     "name": "stdout",
     "output_type": "stream",
     "text": [
      "{'_id': ObjectId('5a2a0f540139d52028138f82'),\n",
      " 'age': 25,\n",
      " 'author': 'yyyyyy',\n",
      " 'date': datetime.datetime(2017, 12, 8, 4, 4, 35, 271000),\n",
      " 'text': 'I am good'}\n",
      "{'_id': ObjectId('5a2a0fc30139d52028138f83'),\n",
      " 'age': 25,\n",
      " 'author': 'yyyyyy',\n",
      " 'date': datetime.datetime(2017, 12, 8, 4, 6, 27, 7000),\n",
      " 'text': 'I am good'}\n"
     ]
    }
   ],
   "source": [
    "####### 找出多筆資料\n",
    "import pprint\n",
    "for i in collection.find({\"author\":\"yyyyyy\"}):\n",
    "    pprint.pprint(i)"
   ]
  },
  {
   "cell_type": "code",
   "execution_count": null,
   "metadata": {
    "collapsed": true
   },
   "outputs": [],
   "source": [
    "######## 製作多筆資料\n",
    "new_posts = [\n",
    "              {\"author\": \"Mike\",\n",
    "               \"text\": \"Another post!\",\n",
    "               \"tags\": [\"bulk\", \"insert\"],\n",
    "               \"date\": datetime.datetime(2009, 11, 12, 11, 14)},\n",
    "              {\"author\": \"Eliot\",\n",
    "               \"title\": \"MongoDB is fun\",\n",
    "               \"text\": \"and pretty easy too!\",\n",
    "               \"date\": datetime.datetime(2009, 11, 10, 10, 45)}\n",
    "            ]"
   ]
  },
  {
   "cell_type": "code",
   "execution_count": null,
   "metadata": {
    "collapsed": true
   },
   "outputs": [],
   "source": [
    "######## 插入多筆資料\n",
    "collection.insert_many(new_posts)"
   ]
  },
  {
   "cell_type": "code",
   "execution_count": null,
   "metadata": {
    "collapsed": true
   },
   "outputs": [],
   "source": []
  },
  {
   "cell_type": "code",
   "execution_count": null,
   "metadata": {
    "collapsed": true
   },
   "outputs": [],
   "source": []
  },
  {
   "cell_type": "code",
   "execution_count": null,
   "metadata": {
    "collapsed": true
   },
   "outputs": [],
   "source": []
  },
  {
   "cell_type": "code",
   "execution_count": 44,
   "metadata": {},
   "outputs": [
    {
     "name": "stdout",
     "output_type": "stream",
     "text": [
      "{'_id': ObjectId('5a1d49ef0139d501004122b5'),\n",
      " 'age': 25,\n",
      " 'date': datetime.datetime(2017, 11, 28, 11, 35, 9, 916000),\n",
      " 'name': 'yyyyyy'}\n"
     ]
    }
   ],
   "source": [
    "######## 只能用objectID\n",
    "import pprint\n",
    "pprint.pprint(collection.find_one({\"_id\":post_id})) "
   ]
  },
  {
   "cell_type": "code",
   "execution_count": 48,
   "metadata": {
    "scrolled": true
   },
   "outputs": [
    {
     "data": {
      "text/plain": [
       "{'_id': ObjectId('5a1d49ef0139d501004122b5'),\n",
       " 'age': 25,\n",
       " 'date': datetime.datetime(2017, 11, 28, 11, 35, 9, 916000),\n",
       " 'name': 'yyyyyy'}"
      ]
     },
     "execution_count": 48,
     "metadata": {},
     "output_type": "execute_result"
    }
   ],
   "source": [
    "######## 把string轉成ObjectId\n",
    "from bson.objectid import ObjectId\n",
    "doc = collection.find_one({\"_id\" : ObjectId('5a1d49ef0139d501004122b5')})\n",
    "doc"
   ]
  },
  {
   "cell_type": "code",
   "execution_count": 49,
   "metadata": {
    "collapsed": true
   },
   "outputs": [],
   "source": [
    "new_posts = [\n",
    "              {\"author\": \"Mike\",\n",
    "               \"text\": \"Another post!\",\n",
    "               \"tags\": [\"bulk\", \"insert\"],\n",
    "               \"date\": datetime.datetime(2009, 11, 12, 11, 14)},\n",
    "              {\"author\": \"Eliot\",\n",
    "               \"title\": \"MongoDB is fun\",\n",
    "               \"text\": \"and pretty easy too!\",\n",
    "               \"date\": datetime.datetime(2009, 11, 10, 10, 45)}\n",
    "            ]"
   ]
  },
  {
   "cell_type": "code",
   "execution_count": 50,
   "metadata": {},
   "outputs": [
    {
     "data": {
      "text/plain": [
       "[ObjectId('5a1d504e0139d501004122b6'), ObjectId('5a1d504e0139d501004122b7')]"
      ]
     },
     "execution_count": 50,
     "metadata": {},
     "output_type": "execute_result"
    }
   ],
   "source": [
    "###insert many\n",
    "collection.insert_many(new_posts)"
   ]
  },
  {
   "cell_type": "code",
   "execution_count": 53,
   "metadata": {},
   "outputs": [
    {
     "name": "stdout",
     "output_type": "stream",
     "text": [
      "{'_id': ObjectId('5a1d443e0139d501004122b2'),\n",
      " 'author': 'frnak',\n",
      " 'text': 'I am handsome'}\n",
      "{'_id': ObjectId('5a1d46390139d501004122b3'),\n",
      " 'age': 25,\n",
      " 'date': datetime.datetime(2017, 11, 28, 11, 18, 8, 483000),\n",
      " 'height': 185,\n",
      " 'name': 'yyyyyy'}\n",
      "{'_id': ObjectId('5a1d49ae0139d501004122b4'),\n",
      " 'age': 25,\n",
      " 'date': datetime.datetime(2017, 11, 28, 11, 33, 56, 155000),\n",
      " 'height': 185,\n",
      " 'name': 'yyyyyy'}\n",
      "{'_id': ObjectId('5a1d49ef0139d501004122b5'),\n",
      " 'age': 25,\n",
      " 'date': datetime.datetime(2017, 11, 28, 11, 35, 9, 916000),\n",
      " 'name': 'yyyyyy'}\n",
      "{'_id': ObjectId('5a1d504e0139d501004122b6'),\n",
      " 'author': 'Mike',\n",
      " 'date': datetime.datetime(2009, 11, 12, 11, 14),\n",
      " 'tags': ['bulk', 'insert'],\n",
      " 'text': 'Another post!'}\n",
      "{'_id': ObjectId('5a1d504e0139d501004122b7'),\n",
      " 'author': 'Eliot',\n",
      " 'date': datetime.datetime(2009, 11, 10, 10, 45),\n",
      " 'text': 'and pretty easy too!',\n",
      " 'title': 'MongoDB is fun'}\n"
     ]
    }
   ],
   "source": [
    "import pprint\n",
    "for co in collection.find():\n",
    "    pprint.pprint(co)"
   ]
  },
  {
   "cell_type": "code",
   "execution_count": 55,
   "metadata": {
    "scrolled": true
   },
   "outputs": [
    {
     "name": "stdout",
     "output_type": "stream",
     "text": [
      "{'_id': ObjectId('5a1d46390139d501004122b3'),\n",
      " 'age': 25,\n",
      " 'date': datetime.datetime(2017, 11, 28, 11, 18, 8, 483000),\n",
      " 'height': 185,\n",
      " 'name': 'yyyyyy'}\n",
      "{'_id': ObjectId('5a1d49ae0139d501004122b4'),\n",
      " 'age': 25,\n",
      " 'date': datetime.datetime(2017, 11, 28, 11, 33, 56, 155000),\n",
      " 'height': 185,\n",
      " 'name': 'yyyyyy'}\n",
      "{'_id': ObjectId('5a1d49ef0139d501004122b5'),\n",
      " 'age': 25,\n",
      " 'date': datetime.datetime(2017, 11, 28, 11, 35, 9, 916000),\n",
      " 'name': 'yyyyyy'}\n"
     ]
    }
   ],
   "source": [
    "import pprint\n",
    "for col in collection.find({\"name\":\"yyyyyy\"}):\n",
    "    pprint.pprint(col)"
   ]
  },
  {
   "cell_type": "code",
   "execution_count": 56,
   "metadata": {},
   "outputs": [
    {
     "data": {
      "text/plain": [
       "<pymongo.results.InsertOneResult at 0x1e3587fa988>"
      ]
     },
     "execution_count": 56,
     "metadata": {},
     "output_type": "execute_result"
    }
   ],
   "source": [
    "collection.insert_one(\n",
    "{\"age\":\"20000000000\"}\n",
    ")"
   ]
  },
  {
   "cell_type": "code",
   "execution_count": 82,
   "metadata": {},
   "outputs": [
    {
     "name": "stderr",
     "output_type": "stream",
     "text": [
      "C:\\Users\\Java\\Anaconda3\\lib\\site-packages\\ipykernel_launcher.py:2: DeprecationWarning: remove is deprecated. Use delete_one or delete_many instead.\n",
      "  \n"
     ]
    },
    {
     "data": {
      "text/plain": [
       "{'n': 3, 'ok': 1.0}"
      ]
     },
     "execution_count": 82,
     "metadata": {},
     "output_type": "execute_result"
    }
   ],
   "source": [
    "####### 清空資料夾所有東西\n",
    "collection.remove({}) "
   ]
  },
  {
   "cell_type": "code",
   "execution_count": 76,
   "metadata": {
    "collapsed": true
   },
   "outputs": [],
   "source": [
    "new_posts = [\n",
    "    {\n",
    "    \"title\": 'PHP 教程', \n",
    "    \"description\": 'PHP 是一种创建动态交互性站点的强有力的服务器端脚本语言。',\n",
    "    \"by\": '菜鸟教程',\n",
    "    \"url\": 'http://www.runoob.com',\n",
    "    \"tags\": ['php'],\n",
    "    \"likes\": 200\n",
    "    },\n",
    "    {\n",
    "    \"title\": 'Java 教程', \n",
    "    \"description\": 'Java 是由Sun Microsystems公司于1995年5月推出的高级程序设计语言。',\n",
    "    \"by\": '菜鸟教程',\n",
    "    \"url\": 'http://www.runoob.com',\n",
    "    \"tags\": ['java'],\n",
    "    \"likes\": 150\n",
    "    },\n",
    "    {\n",
    "    \"title\": 'MongoDB 教程', \n",
    "    \"description\": 'MongoDB 是一个 Nosql 数据库',\n",
    "    \"by\": '菜鸟教程',\n",
    "    \"url\": 'http://www.runoob.com',\n",
    "    \"tags\": ['mongodb'],\n",
    "    \"likes\": 100\n",
    "    }\n",
    "]"
   ]
  },
  {
   "cell_type": "code",
   "execution_count": 77,
   "metadata": {},
   "outputs": [
    {
     "data": {
      "text/plain": [
       "<pymongo.results.InsertManyResult at 0x1e358b1fac8>"
      ]
     },
     "execution_count": 77,
     "metadata": {},
     "output_type": "execute_result"
    }
   ],
   "source": [
    "collection.insert_many(new_posts)"
   ]
  },
  {
   "cell_type": "code",
   "execution_count": 79,
   "metadata": {},
   "outputs": [
    {
     "name": "stdout",
     "output_type": "stream",
     "text": [
      "{'_id': ObjectId('5a1d626d0139d501004122be'),\n",
      " 'by': '菜鸟教程',\n",
      " 'description': 'Java 是由Sun Microsystems公司于1995年5月推出的高级程序设计语言。',\n",
      " 'likes': 150,\n",
      " 'tags': ['java'],\n",
      " 'title': 'Java 教程',\n",
      " 'url': 'http://www.runoob.com'}\n",
      "{'_id': ObjectId('5a1d626d0139d501004122bd'),\n",
      " 'by': '菜鸟教程',\n",
      " 'description': 'PHP 是一种创建动态交互性站点的强有力的服务器端脚本语言。',\n",
      " 'likes': 200,\n",
      " 'tags': ['php'],\n",
      " 'title': 'PHP 教程',\n",
      " 'url': 'http://www.runoob.com'}\n"
     ]
    }
   ],
   "source": [
    "###### 可以下mongo指令\n",
    "\n",
    "for f in db.collection.find({\"likes\" : {\"$gte\" : 150}}).sort(\"title\"):\n",
    "    pprint.pprint(f)"
   ]
  },
  {
   "cell_type": "code",
   "execution_count": 83,
   "metadata": {},
   "outputs": [
    {
     "data": {
      "text/plain": [
       "'user_id_1'"
      ]
     },
     "execution_count": 83,
     "metadata": {},
     "output_type": "execute_result"
    }
   ],
   "source": [
    "######## 創造另一個 _id 讓他成為判斷重複的依據\n",
    "db.collection.create_index([('user_id', pymongo.ASCENDING)], unique=True)\n"
   ]
  },
  {
   "cell_type": "code",
   "execution_count": 84,
   "metadata": {
    "collapsed": true
   },
   "outputs": [],
   "source": [
    "user_profiles =[ \n",
    "    {'user_id':100,'name':'Frank'},\n",
    "    {'user_id':101,'name':'Tom'},\n",
    "    {'user_id':103,'name':'Ham'}\n",
    "]"
   ]
  },
  {
   "cell_type": "code",
   "execution_count": 85,
   "metadata": {},
   "outputs": [
    {
     "data": {
      "text/plain": [
       "<pymongo.results.InsertManyResult at 0x1e358b9c288>"
      ]
     },
     "execution_count": 85,
     "metadata": {},
     "output_type": "execute_result"
    }
   ],
   "source": [
    "db.collection.insert_many(user_profiles)"
   ]
  },
  {
   "cell_type": "code",
   "execution_count": 87,
   "metadata": {},
   "outputs": [
    {
     "name": "stderr",
     "output_type": "stream",
     "text": [
      "C:\\Users\\Java\\Anaconda3\\lib\\site-packages\\ipykernel_launcher.py:2: DeprecationWarning: insert is deprecated. Use insert_one or insert_many instead.\n",
      "  \n"
     ]
    },
    {
     "data": {
      "text/plain": [
       "ObjectId('5a1d66ee0139d501004122c3')"
      ]
     },
     "execution_count": 87,
     "metadata": {},
     "output_type": "execute_result"
    }
   ],
   "source": [
    "ew_profile = {'user_id':104,'name':'Gray'}\n",
    "db.collection.insert(ew_profile)"
   ]
  },
  {
   "cell_type": "code",
   "execution_count": 89,
   "metadata": {},
   "outputs": [
    {
     "data": {
      "text/plain": [
       "<pymongo.results.InsertOneResult at 0x1e358c344c8>"
      ]
     },
     "execution_count": 89,
     "metadata": {},
     "output_type": "execute_result"
    }
   ],
   "source": [
    "dp_profile = {'name':'wanry'}\n",
    "db.collection.insert_one(dp_profile)"
   ]
  },
  {
   "cell_type": "code",
   "execution_count": null,
   "metadata": {
    "collapsed": true
   },
   "outputs": [],
   "source": []
  }
 ],
 "metadata": {
  "kernelspec": {
   "display_name": "Python 3",
   "language": "python",
   "name": "python3"
  },
  "language_info": {
   "codemirror_mode": {
    "name": "ipython",
    "version": 3
   },
   "file_extension": ".py",
   "mimetype": "text/x-python",
   "name": "python",
   "nbconvert_exporter": "python",
   "pygments_lexer": "ipython3",
   "version": "3.6.1"
  }
 },
 "nbformat": 4,
 "nbformat_minor": 2
}
