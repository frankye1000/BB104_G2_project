{
 "cells": [
  {
   "cell_type": "code",
   "execution_count": 150,
   "metadata": {
    "collapsed": true
   },
   "outputs": [],
   "source": [
    "import jieba\n",
    "import numpy as np\n",
    "#打開詞典文件，返回列表\n",
    "def open_dict(Dict = 'haha', path=r'C:/Users/Java/python無聊爬蟲/語意處理/情緒分析/Textming'):\n",
    "    path = path + '%s.txt' % Dict\n",
    "    dictionary = open(path, 'r', encoding='utf-8')\n",
    "    dict = []\n",
    "    for word in dictionary:\n",
    "        word = word.strip('\\n').replace(\"\\ufeff\",\"\")\n",
    "        dict.append(word)\n",
    "    return dict\n",
    "\n",
    "\n",
    "\n",
    "def judgeodd(num):\n",
    "    if (num % 2) == 0:\n",
    "        return 'even'\n",
    "    else:\n",
    "        return 'odd'\n",
    "\n",
    "\n",
    "#注意，這裡你要修改path路径。\n",
    "deny_word = open_dict(Dict = '否定詞', path= r'C:/<file path>/')\n",
    "posdict = open_dict(Dict = 'positive', path= r'C:/<file path>/')\n",
    "negdict = open_dict(Dict = 'negative', path= r'C:/<file path>/')\n",
    "\n",
    "degree_word = open_dict(Dict = '程度級別詞語', path= r'C:/Users/Java/python無聊爬蟲/語意處理/情緒分析/Textming/')\n",
    "mostdict = degree_word[degree_word.index('extreme')+1 : degree_word.index('very')]#權重4，即在情感詞前乘以4\n",
    "verydict = degree_word[degree_word.index('very')+1 : degree_word.index('more')]#權重3\n",
    "moredict = degree_word[degree_word.index('more')+1 : degree_word.index('ish')]#權重2\n",
    "ishdict = degree_word[degree_word.index('ish')+1 : degree_word.index('last')]#權重0.5\n",
    "\n",
    "\n",
    "\n",
    "def sentiment_score_list(dataset):\n",
    "    seg_sentence = dataset.split('。')\n",
    "\n",
    "    count1 = []\n",
    "    count2 = []\n",
    "    for sen in seg_sentence: #循環遍歷每一個評論\n",
    "        segtmp = jieba.lcut(sen, cut_all=False)  #把句子進行分詞，以列表的形式返回\n",
    "        i = 0 #記錄掃描到的詞的位置\n",
    "        a = 0 #紀錄情感詞的位置\n",
    "        poscount = 0 #積極詞的第一次分值\n",
    "        poscount2 = 0 #積極詞反轉後的分值\n",
    "        poscount3 = 0 #積極詞的最後分值（包括驚嘆號的分值）\n",
    "        negcount = 0\n",
    "        negcount2 = 0\n",
    "        negcount3 = 0\n",
    "        for word in segtmp:\n",
    "            if word in posdict:  # 判斷詞語是否是情感词\n",
    "                poscount += 1\n",
    "                c = 0\n",
    "                for w in segtmp[a:i]:  # 掃描情感詞前的程度词\n",
    "                    if w in mostdict:\n",
    "                        poscount *= 4.0\n",
    "                    elif w in verydict:\n",
    "                        poscount *= 3.0\n",
    "                    elif w in moredict:\n",
    "                        poscount *= 2.0\n",
    "                    elif w in ishdict:\n",
    "                        poscount *= 0.5\n",
    "                    elif w in deny_word:\n",
    "                        c += 1\n",
    "                if judgeodd(c) == 'odd':  # 掃描情感詞前的否定詞數\n",
    "                    poscount *= -1.0\n",
    "                    poscount2 += poscount\n",
    "                    poscount = 0\n",
    "                    poscount3 = poscount + poscount2 + poscount3\n",
    "                    poscount2 = 0\n",
    "                else:\n",
    "                    poscount3 = poscount + poscount2 + poscount3\n",
    "                    poscount = 0\n",
    "                a = i + 1   # 情感詞的位置變化\n",
    "\n",
    "            elif word in negdict:  # 消極情感的分析，與上面一致\n",
    "                negcount += 1\n",
    "                d = 0\n",
    "                for w in segtmp[a:i]:\n",
    "                    if w in mostdict:\n",
    "                        negcount *= 4.0\n",
    "                    elif w in verydict:\n",
    "                        negcount *= 3.0\n",
    "                    elif w in moredict:\n",
    "                        negcount *= 2.0\n",
    "                    elif w in ishdict:\n",
    "                        negcount *= 0.5\n",
    "                    elif w in degree_word:\n",
    "                        d += 1\n",
    "                if judgeodd(d) == 'odd':\n",
    "                    negcount *= -1.0\n",
    "                    negcount2 += negcount\n",
    "                    negcount = 0\n",
    "                    negcount3 = negcount + negcount2 + negcount3\n",
    "                    negcount2 = 0\n",
    "                else:\n",
    "                    negcount3 = negcount + negcount2 + negcount3\n",
    "                    negcount = 0\n",
    "                a = i + 1\n",
    "            elif word == '！' or word == '!':  ##判斷句子是否有感嘆號\n",
    "                for w2 in segtmp[::-1]:  # 掃描感嘆號前的情感詞，發現后權值+2，然後退出循環\n",
    "                    if w2 in posdict or negdict:\n",
    "                        poscount3 += 2\n",
    "                        negcount3 += 2\n",
    "                        break\n",
    "            i += 1 # 掃描詞位置前移\n",
    "\n",
    "\n",
    "            # 以下是防止出現負數的情况\n",
    "            pos_count = 0\n",
    "            neg_count = 0\n",
    "            if poscount3 < 0 and negcount3 > 0:\n",
    "                neg_count += negcount3 - poscount3\n",
    "                pos_count = 0\n",
    "            elif negcount3 < 0 and poscount3 > 0:\n",
    "                pos_count = poscount3 - negcount3\n",
    "                neg_count = 0\n",
    "            elif poscount3 < 0 and negcount3 < 0:\n",
    "                neg_count = -poscount3\n",
    "                pos_count = -negcount3\n",
    "            else:\n",
    "                pos_count = poscount3\n",
    "                neg_count = negcount3\n",
    "\n",
    "            count1.append([pos_count, neg_count])\n",
    "        count2.append(count1)\n",
    "        count1 = []\n",
    "\n",
    "    return count2\n",
    "\n",
    "def sentiment_score(senti_score_list):\n",
    "    score = []\n",
    "    for review in senti_score_list:\n",
    "        score_array = np.array(review)\n",
    "        Pos = np.sum(score_array[:, 0])\n",
    "        Neg = np.sum(score_array[:, 1])\n",
    "        AvgPos = np.mean(score_array[:, 0])\n",
    "        AvgPos = float('%.1f'%AvgPos)\n",
    "        AvgNeg = np.mean(score_array[:, 1])\n",
    "        AvgNeg = float('%.1f'%AvgNeg)\n",
    "        StdPos = np.std(score_array[:, 0])\n",
    "        StdPos = float('%.1f'%StdPos)\n",
    "        StdNeg = np.std(score_array[:, 1])\n",
    "        StdNeg = float('%.1f'%StdNeg)\n",
    "        score.append([Pos, Neg, AvgPos, AvgNeg, StdPos, StdNeg])\n",
    "    return score\n"
   ]
  },
  {
   "cell_type": "code",
   "execution_count": 151,
   "metadata": {},
   "outputs": [
    {
     "name": "stdout",
     "output_type": "stream",
     "text": [
      "[[95, 46, 2.1, 1.0, 0.8, 1.0]]\n"
     ]
    }
   ],
   "source": [
    "data = \"\"\"院長加油，轉型正義，長期的司法体係，要改派院長不是人當的，長期低薪問题早就存在，人民要有共識，內憂外患，可悲阿，台湾人麥哥乱Y拉赖神加油拉！讃\"\"\"\n",
    "data2= '我好開心啊，非常非常非常高興！今天我得了一百分，我很興奮開心，愉快，開心'\n",
    "print(sentiment_score(sentiment_score_list(data)))"
   ]
  },
  {
   "cell_type": "code",
   "execution_count": null,
   "metadata": {
    "collapsed": true
   },
   "outputs": [],
   "source": []
  },
  {
   "cell_type": "markdown",
   "metadata": {},
   "source": [
    "# fb Comments test"
   ]
  },
  {
   "cell_type": "code",
   "execution_count": null,
   "metadata": {
    "scrolled": true
   },
   "outputs": [],
   "source": [
    "from pymongo import MongoClient\n",
    "import re\n",
    "client = MongoClient(\"mongodb://10.120.37.108:27017\")\n",
    "db = client[\"fb\"]\n",
    "collection_posts    = db[\"iw_posts\"]\n",
    "collection_comments = db[\"iw_comments\"]\n",
    "\n",
    "post    = collection_posts.find({\"id\":\"46251501064_10154749205936065\"},{\"_id\":0})\n",
    "message = collection_comments.find({\"post_id\":\"46251501064_10154749205936065\"},{\"message\":1,\"_id\":0})\n",
    "message_list = [i[\"message\"] for i in message]"
   ]
  },
  {
   "cell_type": "code",
   "execution_count": 195,
   "metadata": {},
   "outputs": [
    {
     "name": "stdout",
     "output_type": "stream",
     "text": [
      "{'created_time': datetime.datetime(2017, 11, 22, 11, 30), 'message': '蔡英文總統針對獵雷艦案談話：\\n\\n親愛的國人同胞，大家好。針對臺灣社會非常關切的海軍獵雷艦案，今天下午，國防部已經提出相關的懲處名單。 \\n\\n做為三軍統帥，我對國軍的要求，就是勇敢面對，有錯就改，這才是國防改革的意義，這才是中華民國的國軍。 \\n\\n在這裡，我也要向國人說明針對本案，政府的三點立場。 \\n\\n第一、我們會釐清真相，嚴格究辦。 \\n\\n這項由前政府啟動的計畫，有明顯的疏失，無論是決策、招標、聯貸，以及履約的管理的過程，都應該被嚴格的檢視。 \\n\\n我要再次要求，本案所有的相關單位，務必坦蕩配合司法調查，在勿枉勿縱的原則下，如果有任何人涉弊，不論層級、不論是誰，絕不寬貸。 \\n\\n第二、務必要糾正錯誤，解決問題。 \\n\\n解決問題，是我們一貫的施政方針。如果過去做錯了，不論是何時發生的錯誤，我們就要確實檢討，積極解決、彌補錯誤。行政院已經完成本案的檢討報告，今天國防部也已經提出了懲處名單。 \\n\\n接下來，我要求國防部，務必全面檢討整個造艦案招標的過程，也必須在最短的時間內，對後續合約的事宜，做出專業的評估以及明快的決定，以確保國家利益。 \\n\\n更重要的是，我們一定要建立更完善的機制，把不適格的廠商排除在國防自主的計畫之外，杜絕錯誤再犯。危機就是轉機，我希望經過這一次的錯誤及失敗，國軍記取教訓，找出正確的方向與道路。 \\n\\n第三、 政府推動國艦國造的決心，不會改變。 \\n\\n走向國防自主的這條路，從來不是順風順水。但是，我們不會因為個案的挫折，影響國艦國造的決心。 \\n\\n我是三軍統帥，國軍有困難的時候，我一定會一起承擔。而國艦國造的工作，我們會更堅持到底。接下來，政府、國軍及產業，都要共同的投入，讓這項關係到國家安全的重大政策，克服萬難，繼續向前。 \\n\\n過去，國軍也有沱江艦及磐石艦成功的國艦國造經驗，我相信，只要方向正確、決心堅定，國艦國造的目標就會開花結果。 \\n\\n國防自主一定會成功，也一定要成功！謝謝大家，國軍加油。', 'id': '46251501064_10154749205936065', 'likes': 9851, 'shares': 810, 'link': 'https://www.facebook.com/tsaiingwen/videos/10154749205936065/'}\n"
     ]
    }
   ],
   "source": [
    "for i in post:\n",
    "    print(i)"
   ]
  },
  {
   "cell_type": "code",
   "execution_count": 196,
   "metadata": {
    "collapsed": true
   },
   "outputs": [],
   "source": [
    "s=[]\n",
    "for i in message_list:\n",
    "    sentence = re.findall('[!|！|\\u4e00-\\u9fa5]+', i)\n",
    "    s.append(sentence)"
   ]
  },
  {
   "cell_type": "code",
   "execution_count": 198,
   "metadata": {
    "scrolled": true
   },
   "outputs": [
    {
     "name": "stdout",
     "output_type": "stream",
     "text": [
      "總回文數=2193\n",
      "正面分數=1900.1999999999978 負面分數=2215.599999999997\n",
      "正面平均分數=0.866484268125854 負面平均分數=1.0103055175558582\n"
     ]
    }
   ],
   "source": [
    "positive_total_score = 0\n",
    "negative_total_score = 0\n",
    "count=0\n",
    "for df in s:\n",
    "    if df:\n",
    "        cleaned_sentence = str(df).replace(\"[\",\"\").replace(\"]\",\"\").replace(\"'\",\"\").replace(\",\",\"\").replace(\" \",\"\")\n",
    "        positive_avg_score = sentiment_score(sentiment_score_list(cleaned_sentence))[0][2]\n",
    "        negative_avg_score = sentiment_score(sentiment_score_list(cleaned_sentence))[0][3]\n",
    "        \n",
    "        positive_total_score += positive_avg_score \n",
    "        negative_total_score += negative_avg_score\n",
    "        count+=1\n",
    "print(\"總回文數=%s\"%count)\n",
    "print(\"正面分數=%s\"%positive_total_score,\"負面分數=%s\"%negative_total_score)\n",
    "print(\"正面平均分數=%s\"%(positive_total_score/count),\"負面平均分數=%s\"%(negative_total_score/count))"
   ]
  },
  {
   "cell_type": "code",
   "execution_count": null,
   "metadata": {
    "collapsed": true
   },
   "outputs": [],
   "source": []
  }
 ],
 "metadata": {
  "kernelspec": {
   "display_name": "Python 3",
   "language": "python",
   "name": "python3"
  },
  "language_info": {
   "codemirror_mode": {
    "name": "ipython",
    "version": 3
   },
   "file_extension": ".py",
   "mimetype": "text/x-python",
   "name": "python",
   "nbconvert_exporter": "python",
   "pygments_lexer": "ipython3",
   "version": "3.6.1"
  }
 },
 "nbformat": 4,
 "nbformat_minor": 2
}
