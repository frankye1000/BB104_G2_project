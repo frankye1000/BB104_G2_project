{
 "cells": [
  {
   "cell_type": "code",
   "execution_count": 15,
   "metadata": {},
   "outputs": [
    {
     "data": {
      "text/plain": [
       "0.8636011510294835"
      ]
     },
     "execution_count": 15,
     "metadata": {},
     "output_type": "execute_result"
    }
   ],
   "source": [
    "from snownlp import SnowNLP\n",
    "text = u'''柯阿北曾在某次演說中提到台灣的歷史是個勝者全拿的世界只留下文明而沒有了文化這就是今日勝利者的正義說法的緣由建設能讓城市變大文化可以讓一個城市變偉大更能帶動區域觀光尤其傳統文化更有延續台灣精神承先啟後的功用進步的城市就從懂文化保存文化進而推廣並尊重文化做起吧軸線翻轉市長加油'''\n",
    "s = SnowNLP(text)\n",
    "\n",
    "s.sentiments"
   ]
  },
  {
   "cell_type": "markdown",
   "metadata": {},
   "source": [
    "# 同樣回文，去掉標點符號[能]表示出情緒正確的負向"
   ]
  },
  {
   "cell_type": "code",
   "execution_count": 32,
   "metadata": {},
   "outputs": [
    {
     "data": {
      "text/plain": [
       "4.983771173527884e-10"
      ]
     },
     "execution_count": 32,
     "metadata": {},
     "output_type": "execute_result"
    }
   ],
   "source": [
    "text = u\"自行車鎖車桿和自行車位根本很少好嘛每次和朋友出來吃飯還是辦事情自行車根本就不知道要停那裡，最後當然只能找根電線桿什麼的停一停。建議看可不可店家餐廳百貨公司電影院等等廣設自行車格還有鎖車桿不然你不違停是要怎麼辦然後現在的自行車道行人根本就沒有建立起要讓騎單車人優先的概念很多人專走在自行車道裡那自行車道有設和沒設一樣這個也應該多加宣導吧如果和歐州比起來我們的自行車道只算是1.0的自行車道的路權還有自行車的路網以後肯定還要再升級吧不然現在這個樣子那自行車道還不如北京和上海\"\n",
    "s = SnowNLP(text)\n",
    "s.sentiments"
   ]
  },
  {
   "cell_type": "code",
   "execution_count": 33,
   "metadata": {
    "scrolled": true
   },
   "outputs": [
    {
     "data": {
      "text/plain": [
       "5.356834975600577e-10"
      ]
     },
     "execution_count": 33,
     "metadata": {},
     "output_type": "execute_result"
    }
   ],
   "source": [
    "text = u''' 自行車鎖車桿和自行車位根本很少好嘛！每次和朋友出來吃飯，還是辦事情，自行車根本就不知道要停那裡，最後當然只能找根電線桿什麼的停一停。建議看可不可店家，餐廳，百貨公司，電影院等等廣設自行車格還有鎖車桿，不然你不違停是要怎麼辦？然後現在的自行車道，行人根本就沒有建立起要讓騎單車人優先的概念，很多人專走在自行車道裡，那自行車道有設和沒設一樣，這個也應該多加宣導吧。如果和歐州比起來，我們的自行車道只算是1.0的，自行車道的路權還有自行車的路網以後肯定還要再升級吧。 不然現在這個樣子，那自行車道還不如北京和上海。'''\n",
    "s = SnowNLP(text)\n",
    "\n",
    "s.sentiments"
   ]
  },
  {
   "cell_type": "markdown",
   "metadata": {},
   "source": [
    "# 同樣回文，去掉標點符號[不能]表示出情緒正確的正向"
   ]
  },
  {
   "cell_type": "code",
   "execution_count": 28,
   "metadata": {},
   "outputs": [
    {
     "data": {
      "text/plain": [
       "0.9948045807230188"
      ]
     },
     "execution_count": 28,
     "metadata": {},
     "output_type": "execute_result"
    }
   ],
   "source": [
    "text = u'''智慧支付！智慧的市長！電子商務 確實方便又安全！更能準確的計算當日營業收入〜好貼心的關懷與設計，果然是 順勢潮流&帶領實踐 的 智慧 柯阿北快點擴大到所有付費的點線面！這是世界文明進步的趨勢。而在電子商務系統上，台灣其實已經落後其他國家很遠了！讓台北市成為台灣進步的指標加油'''\n",
    "s= SnowNLP(text)\n",
    "\n",
    "s.sentiments"
   ]
  },
  {
   "cell_type": "code",
   "execution_count": 26,
   "metadata": {},
   "outputs": [
    {
     "data": {
      "text/plain": [
       "0.21246597322917504"
      ]
     },
     "execution_count": 26,
     "metadata": {},
     "output_type": "execute_result"
    }
   ],
   "source": [
    "text = u'''智慧支付智慧的市長電子商務確實方便又安全更能準確的計算當日營業收入好貼心的關懷與設計果然是順勢潮流帶領實踐的智慧柯阿北快點擴大到所有付費的點線面這是世界文明進步的趨勢而在電子商務系統上台灣其實已經落後其他國家很遠了讓台北市成為台灣進步的指標加油'''\n",
    "s= SnowNLP(text)\n",
    "\n",
    "s.sentiments"
   ]
  },
  {
   "cell_type": "markdown",
   "metadata": {},
   "source": [
    "# 同樣回文，去掉標點符號[能]表示出情緒正確的正向"
   ]
  },
  {
   "cell_type": "code",
   "execution_count": 36,
   "metadata": {},
   "outputs": [
    {
     "data": {
      "text/plain": [
       "0.9935911119494389"
      ]
     },
     "execution_count": 36,
     "metadata": {},
     "output_type": "execute_result"
    }
   ],
   "source": [
    "text = u'''「我不是常講錯話，而是講的都是實話」是柯阿北在文化大學演講時最精采的一段話了其中還提到「尤其當市長後，能聽到的真話更少了」我真的很期待 柯阿北 能擁有更大的改革權利！讓政治步上常軌人心回歸單純！什麼意識形態、勝利者狂妄的正義、獵殺政敵！不問是非的所有荒謬的怪異現象！能在柯市長的手中漸漸步向正軌！實行真正的民主憲政！！市長加油！！'''\n",
    "s= SnowNLP(text)\n",
    "\n",
    "s.sentiments"
   ]
  },
  {
   "cell_type": "code",
   "execution_count": 37,
   "metadata": {},
   "outputs": [
    {
     "data": {
      "text/plain": [
       "0.9999766734636862"
      ]
     },
     "execution_count": 37,
     "metadata": {},
     "output_type": "execute_result"
    }
   ],
   "source": [
    "text = u'''我不是常講錯話而是講的都是實話是柯阿北在文化大學演講時最精采的一段話了其中還提到尤其當市長後能聽到的真話更少了我真的很期待柯阿北能擁有更大的改革權利讓政治步上常軌人心回歸單純什麼意識形態勝利者狂妄的正義獵殺政敵不問是非的所有荒謬的怪異現象能在柯市長的手中漸漸步向正軌實行真正的民主憲政市長加油'''\n",
    "s= SnowNLP(text)\n",
    "\n",
    "s.sentiments"
   ]
  },
  {
   "cell_type": "markdown",
   "metadata": {},
   "source": [
    "# 這句話是正向，但是被判定為負向"
   ]
  },
  {
   "cell_type": "code",
   "execution_count": 38,
   "metadata": {},
   "outputs": [
    {
     "data": {
      "text/plain": [
       "0.0008099431083993247"
      ]
     },
     "execution_count": 38,
     "metadata": {},
     "output_type": "execute_result"
    }
   ],
   "source": [
    "text = u'''新聞說柯P失言，可是我覺得柯P是把我心裡的話講出來了。看到國家都在說謊，藍綠政治人物都只為自己的錢途打算，每天講幹話、台北市議會動物園的表演…。如果酒駕一定要被關，台灣有多少立委、議員沒有酒駕過？他們會自己打臉自己嗎？我真的覺得只有柯P才是真正為人民服務的政治家。如果柯P以後不選了，我真的不知道票要投給誰了…'''\n",
    "s= SnowNLP(text)\n",
    "\n",
    "s.sentiments"
   ]
  },
  {
   "cell_type": "code",
   "execution_count": 71,
   "metadata": {},
   "outputs": [
    {
     "data": {
      "text/plain": [
       "0.004403278554174328"
      ]
     },
     "execution_count": 71,
     "metadata": {},
     "output_type": "execute_result"
    }
   ],
   "source": [
    "text = u'''新聞說柯P失言可是我覺得柯P是把我心裡的話講出來了看到國家都在說謊藍綠政治人物都只為自己的錢途打算每天講幹話台北市議會動物園的表演如果酒駕一定要被關台灣有多少立委議員沒有酒駕過他們會自己打臉自己嗎我真的覺得只有柯P才是真正為人民服務的政治家如果柯P以後不選了我真的不知道票要投給誰'''\n",
    "s= SnowNLP(text)\n",
    "\n",
    "s.sentiments"
   ]
  },
  {
   "cell_type": "code",
   "execution_count": null,
   "metadata": {
    "collapsed": true
   },
   "outputs": [],
   "source": []
  },
  {
   "cell_type": "code",
   "execution_count": null,
   "metadata": {
    "collapsed": true
   },
   "outputs": [],
   "source": []
  },
  {
   "cell_type": "code",
   "execution_count": 135,
   "metadata": {
    "collapsed": true
   },
   "outputs": [],
   "source": [
    "from pymongo import MongoClient\n",
    "client = MongoClient(\"mongodb://127.0.0.1:27017\")\n",
    "db = client[\"<db name>\"]\n",
    "collection = db[\"<collection name>\"]\n",
    "comments = collection.find({\"post_id\":\"<politician_id>\"},{\"_id\":0,\"message\":1})"
   ]
  },
  {
   "cell_type": "code",
   "execution_count": 136,
   "metadata": {
    "scrolled": true
   },
   "outputs": [
    {
     "name": "stdout",
     "output_type": "stream",
     "text": [
      "1725.0871902316376\n",
      "3389\n",
      "0.5090254323492587\n"
     ]
    }
   ],
   "source": [
    "from snownlp import SnowNLP\n",
    "count=0\n",
    "allscore=0\n",
    "for i in comments:\n",
    "    p= str(i[\"message\"])\n",
    "    text = p.replace(\"\\n\",\"\")\n",
    "    try:\n",
    "        s = SnowNLP(text)\n",
    "        score = s.sentiments\n",
    "        \n",
    "    except:\n",
    "        score = 0.5\n",
    "    allscore= allscore + score\n",
    "    count+=1\n",
    "\n",
    "    \n",
    "print(allscore)    \n",
    "print(count)\n",
    "print(allscore/count)"
   ]
  },
  {
   "cell_type": "code",
   "execution_count": null,
   "metadata": {
    "collapsed": true
   },
   "outputs": [],
   "source": []
  }
 ],
 "metadata": {
  "kernelspec": {
   "display_name": "Python 3",
   "language": "python",
   "name": "python3"
  },
  "language_info": {
   "codemirror_mode": {
    "name": "ipython",
    "version": 3
   },
   "file_extension": ".py",
   "mimetype": "text/x-python",
   "name": "python",
   "nbconvert_exporter": "python",
   "pygments_lexer": "ipython3",
   "version": "3.6.1"
  }
 },
 "nbformat": 4,
 "nbformat_minor": 2
}
