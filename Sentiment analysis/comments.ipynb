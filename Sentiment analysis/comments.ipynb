{
 "cells": [
  {
   "cell_type": "code",
   "execution_count": 1,
   "metadata": {
    "collapsed": true
   },
   "outputs": [],
   "source": [
    "text = \"I am happy today. I feel sad today.\"\n"
   ]
  },
  {
   "cell_type": "code",
   "execution_count": 3,
   "metadata": {},
   "outputs": [
    {
     "data": {
      "text/plain": [
       "TextBlob(\"I am happy today. I feel sad today.\")"
      ]
     },
     "execution_count": 3,
     "metadata": {},
     "output_type": "execute_result"
    }
   ],
   "source": [
    "from textblob import TextBlob\n",
    "b = TextBlob(text)\n",
    "b"
   ]
  },
  {
   "cell_type": "code",
   "execution_count": 4,
   "metadata": {},
   "outputs": [
    {
     "data": {
      "text/plain": [
       "[Sentence(\"I am happy today.\"), Sentence(\"I feel sad today.\")]"
      ]
     },
     "execution_count": 4,
     "metadata": {},
     "output_type": "execute_result"
    }
   ],
   "source": [
    "b.sentences"
   ]
  },
  {
   "cell_type": "code",
   "execution_count": 5,
   "metadata": {},
   "outputs": [
    {
     "data": {
      "text/plain": [
       "Sentiment(polarity=0.8, subjectivity=1.0)"
      ]
     },
     "execution_count": 5,
     "metadata": {},
     "output_type": "execute_result"
    }
   ],
   "source": [
    "b.sentences[0].sentiment"
   ]
  },
  {
   "cell_type": "markdown",
   "metadata": {},
   "source": [
    "情感極性0.8，主觀性1.0。說明一下，情感極性的變化範圍是[-1, 1]，-1代表完全負面，1代表完全正面"
   ]
  },
  {
   "cell_type": "code",
   "execution_count": 6,
   "metadata": {},
   "outputs": [
    {
     "data": {
      "text/plain": [
       "Sentiment(polarity=-0.5, subjectivity=1.0)"
      ]
     },
     "execution_count": 6,
     "metadata": {},
     "output_type": "execute_result"
    }
   ],
   "source": [
    "b.sentences[1].sentiment"
   ]
  },
  {
   "cell_type": "code",
   "execution_count": 7,
   "metadata": {},
   "outputs": [
    {
     "data": {
      "text/plain": [
       "Sentiment(polarity=0.15000000000000002, subjectivity=1.0)"
      ]
     },
     "execution_count": 7,
     "metadata": {},
     "output_type": "execute_result"
    }
   ],
   "source": [
    "b.sentiment"
   ]
  },
  {
   "cell_type": "code",
   "execution_count": 7,
   "metadata": {
    "collapsed": true
   },
   "outputs": [],
   "source": [
    "text = u\"我今天很快樂。我今天很生氣。\"\n",
    "##\"很\"有影響情緒的百分比"
   ]
  },
  {
   "cell_type": "markdown",
   "metadata": {},
   "source": [
    "注意在引號前面我們加了一個字母u，它很重要。因為它提示Python，「這一段我們輸入的文本編碼格式是Unicode"
   ]
  },
  {
   "cell_type": "code",
   "execution_count": 8,
   "metadata": {
    "collapsed": true
   },
   "outputs": [],
   "source": [
    "from snownlp import SnowNLP\n",
    "s = SnowNLP(text) ##我要先轉成SNOWNLP的格式才能進行分析"
   ]
  },
  {
   "cell_type": "code",
   "execution_count": 9,
   "metadata": {},
   "outputs": [
    {
     "name": "stdout",
     "output_type": "stream",
     "text": [
      "我今天很快樂\n",
      "我今天很生氣\n"
     ]
    }
   ],
   "source": [
    "for sentence in s.sentences:\n",
    "    print(sentence)"
   ]
  },
  {
   "cell_type": "code",
   "execution_count": 10,
   "metadata": {},
   "outputs": [
    {
     "data": {
      "text/plain": [
       "0.9268071116367116"
      ]
     },
     "execution_count": 10,
     "metadata": {},
     "output_type": "execute_result"
    }
   ],
   "source": [
    "SnowNLP(s.sentences[0]).sentiments"
   ]
  },
  {
   "cell_type": "code",
   "execution_count": 11,
   "metadata": {},
   "outputs": [
    {
     "data": {
      "text/plain": [
       "0.39418533974882597"
      ]
     },
     "execution_count": 11,
     "metadata": {},
     "output_type": "execute_result"
    }
   ],
   "source": [
    "SnowNLP(s.sentences[1]).sentiments"
   ]
  },
  {
   "cell_type": "markdown",
   "metadata": {},
   "source": [
    "這是因為SnowNLP和textblob的計分方法不同。SnowNLP的情感分析取值，表達的是「這句話代表正面情感的機率」。也就是說，對「我今天很憤怒」一句，SnowNLP認為，它表達正面情感的機率很低很低。"
   ]
  },
  {
   "cell_type": "code",
   "execution_count": 12,
   "metadata": {},
   "outputs": [
    {
     "data": {
      "text/plain": [
       "0.881202463832263"
      ]
     },
     "execution_count": 12,
     "metadata": {},
     "output_type": "execute_result"
    }
   ],
   "source": [
    "s.sentiments\n",
    "###整體看準度有待商榷"
   ]
  },
  {
   "cell_type": "code",
   "execution_count": null,
   "metadata": {
    "collapsed": true
   },
   "outputs": [],
   "source": []
  },
  {
   "cell_type": "code",
   "execution_count": null,
   "metadata": {
    "collapsed": true
   },
   "outputs": [],
   "source": []
  },
  {
   "cell_type": "markdown",
   "metadata": {
    "collapsed": true
   },
   "source": [
    "# project comments"
   ]
  },
  {
   "cell_type": "code",
   "execution_count": 5,
   "metadata": {
    "collapsed": true
   },
   "outputs": [],
   "source": [
    "from snownlp import SnowNLP\n",
    "from pymongo import MongoClient\n",
    "import re\n",
    "\n",
    "client = MongoClient(\"mongodb://127.0.0.1:27017\")\n",
    "db = client[\"<db name>\"]\n",
    "collect = db[\"<collection name>\"]\n",
    "\n",
    "import pickle\n",
    "with open(\"gender\", \"rb\") as f:\n",
    "    clf1 = pickle.load(f)\n",
    "\n",
    "with open(\"vectorizer\", \"rb\") as f1:\n",
    "    vectorizer = pickle.load(f1)\n"
   ]
  },
  {
   "cell_type": "code",
   "execution_count": 6,
   "metadata": {
    "collapsed": true
   },
   "outputs": [],
   "source": [
    "comments = list(collect.find({},{\"_id\":0}))"
   ]
  },
  {
   "cell_type": "code",
   "execution_count": 7,
   "metadata": {
    "collapsed": true,
    "scrolled": true
   },
   "outputs": [],
   "source": [
    "cleaned_comments = []\n",
    "\n",
    "for comment in comments:\n",
    "    if len(comment[\"message\"]) != 0:\n",
    "        comment[\"score\"] = float(format(SnowNLP(SnowNLP(comment[\"message\"]).han).sentiments - 0.5, \".4f\"))\n",
    "    else:\n",
    "        comment[\"score\"] = None\n",
    "    \n",
    "    comment[\"person_id\"] = comment[\"from\"][\"id\"]\n",
    "    comment[\"person_name\"] = comment[\"from\"][\"name\"]\n",
    "    comment[\"politician_id\"] = comment[\"post_id\"].split(\"_\")[0]\n",
    "    try:\n",
    "        name = re.findall('[\\u4e00-\\u9fa5]+', comment[\"from\"][\"name\"])[0]\n",
    "        \n",
    "        if len(name) == 2:\n",
    "            comment[\"gender\"] = int(clf1.predict(vectorizer.transform([name[-1]]).toarray())[0])\n",
    "        else:\n",
    "            comment[\"gender\"] = int(clf1.predict(vectorizer.transform([name[-2] + \" \" + name[-1]]).toarray())[0])\n",
    "    except:\n",
    "        comment[\"gender\"] = None\n",
    "    \n",
    "    del comment[\"from\"]\n",
    "    \n",
    "    cleaned_comments.append(comment)"
   ]
  },
  {
   "cell_type": "code",
   "execution_count": 8,
   "metadata": {},
   "outputs": [
    {
     "data": {
      "text/plain": [
       "<pymongo.results.InsertManyResult at 0x240cf7f2208>"
      ]
     },
     "execution_count": 8,
     "metadata": {},
     "output_type": "execute_result"
    }
   ],
   "source": [
    "db1 = client[\"project\"]\n",
    "db1[\"comments\"].insert_many(cleaned_comments)"
   ]
  },
  {
   "cell_type": "code",
   "execution_count": null,
   "metadata": {
    "collapsed": true
   },
   "outputs": [],
   "source": []
  }
 ],
 "metadata": {
  "kernelspec": {
   "display_name": "Python 3",
   "language": "python",
   "name": "python3"
  },
  "language_info": {
   "codemirror_mode": {
    "name": "ipython",
    "version": 3
   },
   "file_extension": ".py",
   "mimetype": "text/x-python",
   "name": "python",
   "nbconvert_exporter": "python",
   "pygments_lexer": "ipython3",
   "version": "3.6.1"
  }
 },
 "nbformat": 4,
 "nbformat_minor": 2
}
