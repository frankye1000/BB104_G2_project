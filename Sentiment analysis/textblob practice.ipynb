{
 "cells": [
  {
   "cell_type": "code",
   "execution_count": 2,
   "metadata": {
    "scrolled": false
   },
   "outputs": [
    {
     "name": "stdout",
     "output_type": "stream",
     "text": [
      "[('The', 'DT'), ('titular', 'JJ'), ('threat', 'NN'), ('of', 'IN'), ('The', 'DT'), ('Blob', 'NNP'), ('has', 'VBZ'), ('always', 'RB'), ('struck', 'VBN'), ('me', 'PRP'), ('as', 'IN'), ('the', 'DT'), ('ultimate', 'JJ'), ('movie', 'NN'), ('monster', 'NN'), ('an', 'DT'), ('insatiably', 'RB'), ('hungry', 'JJ'), ('amoeba-like', 'JJ'), ('mass', 'NN'), ('able', 'JJ'), ('to', 'TO'), ('penetrate', 'VB'), ('virtually', 'RB'), ('any', 'DT'), ('safeguard', 'NN'), ('capable', 'JJ'), ('of', 'IN'), ('as', 'IN'), ('a', 'DT'), ('doomed', 'JJ'), ('doctor', 'NN'), ('chillingly', 'RB'), ('describes', 'VBZ'), ('it', 'PRP'), ('assimilating', 'VBG'), ('flesh', 'NN'), ('on', 'IN'), ('contact', 'NN'), ('Snide', 'JJ'), ('comparisons', 'NNS'), ('to', 'TO'), ('gelatin', 'VB'), ('be', 'VB'), ('damned', 'VBN'), ('it', 'PRP'), (\"'s\", 'VBZ'), ('a', 'DT'), ('concept', 'NN'), ('with', 'IN'), ('the', 'DT'), ('most', 'RBS'), ('devastating', 'JJ'), ('of', 'IN'), ('potential', 'JJ'), ('consequences', 'NNS'), ('not', 'RB'), ('unlike', 'IN'), ('the', 'DT'), ('grey', 'NN'), ('goo', 'NN'), ('scenario', 'NN'), ('proposed', 'VBN'), ('by', 'IN'), ('technological', 'JJ'), ('theorists', 'NNS'), ('fearful', 'NN'), ('of', 'IN'), ('artificial', 'JJ'), ('intelligence', 'NN'), ('run', 'NN'), ('rampant', 'NN'), ('I', 'PRP'), ('am', 'VBP'), ('pig', 'JJ')]\n",
      "0.06000000000000001\n",
      "-0.34166666666666673\n",
      "0.0\n"
     ]
    },
    {
     "data": {
      "text/plain": [
       "TextBlob(\"Blob的名義威脅一直讓我成為最終的電影\n",
       "怪物：一個不能容忍的飢餓的阿米巴樣物體能夠穿透\n",
       "幾乎所有的保障措施，都能成為一個悲觀的醫生\n",
       "描述它 - “同化接觸肉體。\n",
       "Snide比較明膠是該死的，這是一個最多的概念\n",
       "破壞性的潛在後果，不像灰色的情況\n",
       "技術理論家提出的可怕的提議\n",
       "人工智能猖獗。我是豬\")"
      ]
     },
     "execution_count": 2,
     "metadata": {},
     "output_type": "execute_result"
    }
   ],
   "source": [
    "from textblob import TextBlob\n",
    "\n",
    "text = '''\n",
    "The titular threat of The Blob has always struck me as the ultimate movie\n",
    "monster: an insatiably hungry, amoeba-like mass able to penetrate\n",
    "virtually any safeguard, capable of--as a doomed doctor chillingly\n",
    "describes it--\"assimilating flesh on contact.\n",
    "Snide comparisons to gelatin be damned, it's a concept with the most\n",
    "devastating of potential consequences, not unlike the grey goo scenario\n",
    "proposed by technological theorists fearful of\n",
    "artificial intelligence run rampant. I am pig\n",
    "'''\n",
    "\n",
    "blob = TextBlob(text)\n",
    "print(blob.tags)        # [('The', 'DT'), ('titular', 'JJ'),\n",
    "                        #  ('threat', 'NN'), ('of', 'IN'), ...]\n",
    "\n",
    "blob.noun_phrases   # WordList(['titular threat', 'blob', #找出名詞片語\n",
    "                    #            'ultimate movie monster',\n",
    "                    #            'amoeba-like mass', ...])\n",
    "\n",
    "for sentence in blob.sentences:\n",
    "    print(sentence.sentiment.polarity)\n",
    "# 0.060\n",
    "# -0.341\n",
    "\n",
    "blob.translate(to=\"zh-TW\")  # 'La amenaza titular de The Blob...' #翻譯功能"
   ]
  },
  {
   "cell_type": "code",
   "execution_count": 4,
   "metadata": {},
   "outputs": [
    {
     "data": {
      "text/plain": [
       "[('I', 'PRP'),\n",
       " ('am', 'VBP'),\n",
       " ('handsome', 'JJ'),\n",
       " ('boy', 'NN'),\n",
       " ('you', 'PRP'),\n",
       " ('are', 'VBP'),\n",
       " ('the', 'DT'),\n",
       " ('best', 'JJS'),\n",
       " ('woman', 'NN')]"
      ]
     },
     "execution_count": 4,
     "metadata": {},
     "output_type": "execute_result"
    }
   ],
   "source": [
    "##分詞性\n",
    "from textblob import TextBlob\n",
    "wiki = TextBlob(\"I am handsome boy, you are the best woman.\")\n",
    "wiki.tags ##.pos_tags一樣"
   ]
  },
  {
   "cell_type": "code",
   "execution_count": 6,
   "metadata": {},
   "outputs": [
    {
     "data": {
      "text/plain": [
       "WordList(['handsome boy'])"
      ]
     },
     "execution_count": 6,
     "metadata": {},
     "output_type": "execute_result"
    }
   ],
   "source": [
    "wiki.noun_phrases ##名詞片語"
   ]
  },
  {
   "cell_type": "code",
   "execution_count": 9,
   "metadata": {},
   "outputs": [
    {
     "data": {
      "text/plain": [
       "0.75"
      ]
     },
     "execution_count": 9,
     "metadata": {},
     "output_type": "execute_result"
    }
   ],
   "source": [
    "##Return the polarity score as a float within the range [-1.0, 1.0]\n",
    "wiki.polarity "
   ]
  },
  {
   "cell_type": "code",
   "execution_count": 10,
   "metadata": {},
   "outputs": [
    {
     "data": {
      "text/plain": [
       "defaultdict(int, {'handsome boy': 1})"
      ]
     },
     "execution_count": 10,
     "metadata": {},
     "output_type": "execute_result"
    }
   ],
   "source": [
    "wiki.np_counts"
   ]
  },
  {
   "cell_type": "markdown",
   "metadata": {},
   "source": [
    "# The sentiment property returns a namedtuple of the form Sentiment(polarity, subjectivity). \n",
    "# The polarity score is a float within the range [-1.0, 1.0]. \n",
    "# The subjectivity is a float within the range [0.0, 1.0] where 0.0 is very objective(客觀) and 1.0 is very subjective(主觀).\n"
   ]
  },
  {
   "cell_type": "code",
   "execution_count": 23,
   "metadata": {},
   "outputs": [
    {
     "data": {
      "text/plain": [
       "Sentiment(polarity=-0.04999999999999993, subjectivity=0.7333333333333333)"
      ]
     },
     "execution_count": 23,
     "metadata": {},
     "output_type": "execute_result"
    }
   ],
   "source": [
    "wiki = TextBlob(\"bad bad Handsome boy,but he is good guy\")\n",
    "wiki.sentiment"
   ]
  },
  {
   "cell_type": "code",
   "execution_count": 24,
   "metadata": {},
   "outputs": [
    {
     "data": {
      "text/plain": [
       "-0.04999999999999993"
      ]
     },
     "execution_count": 24,
     "metadata": {},
     "output_type": "execute_result"
    }
   ],
   "source": [
    "wiki.sentiment.polarity"
   ]
  },
  {
   "cell_type": "code",
   "execution_count": 28,
   "metadata": {},
   "outputs": [
    {
     "data": {
      "text/plain": [
       "WordList(['Beautiful', 'is', 'better', 'than', 'ugly', 'Explicit', 'is', 'better', 'than', 'implicit', 'Simple', 'is', 'better', 'than', 'complex'])"
      ]
     },
     "execution_count": 28,
     "metadata": {},
     "output_type": "execute_result"
    }
   ],
   "source": [
    "##可以分割字元\n",
    "zen = TextBlob(\"Beautiful is better than ugly. Explicit is better than implicit. Simple is better than complex.\")\n",
    "zen.words"
   ]
  },
  {
   "cell_type": "code",
   "execution_count": 29,
   "metadata": {},
   "outputs": [
    {
     "data": {
      "text/plain": [
       "[Sentence(\"Beautiful is better than ugly.\"),\n",
       " Sentence(\"Explicit is better than implicit.\"),\n",
       " Sentence(\"Simple is better than complex.\")]"
      ]
     },
     "execution_count": 29,
     "metadata": {},
     "output_type": "execute_result"
    }
   ],
   "source": [
    "##可以分句子\n",
    "zen.sentences"
   ]
  },
  {
   "cell_type": "code",
   "execution_count": 37,
   "metadata": {},
   "outputs": [
    {
     "data": {
      "text/plain": [
       "'frank'"
      ]
     },
     "execution_count": 37,
     "metadata": {},
     "output_type": "execute_result"
    }
   ],
   "source": [
    "sentence = TextBlob('Use 55 frank per indentation level.')\n",
    "sentence.words[2].singularize()\n",
    "# sentence.words[-1].pluralize()"
   ]
  },
  {
   "cell_type": "code",
   "execution_count": 47,
   "metadata": {},
   "outputs": [
    {
     "data": {
      "text/plain": [
       "'blow'"
      ]
     },
     "execution_count": 47,
     "metadata": {},
     "output_type": "execute_result"
    }
   ],
   "source": [
    "from textblob import Word\n",
    "w=Word(\"octopi\") ##他可以由復數轉成單數\n",
    "w.lemmatize()\n",
    "\n",
    "w = Word(\"blew\")\n",
    "w.lemmatize(\"v\") ##透過詞性轉換，過去式轉現在式\n"
   ]
  },
  {
   "cell_type": "code",
   "execution_count": 58,
   "metadata": {
    "scrolled": true
   },
   "outputs": [
    {
     "data": {
      "text/plain": [
       "[Synset('travel.v.01'),\n",
       " Synset('go.v.02'),\n",
       " Synset('go.v.03'),\n",
       " Synset('become.v.01'),\n",
       " Synset('go.v.05'),\n",
       " Synset('run.v.05'),\n",
       " Synset('run.v.03'),\n",
       " Synset('proceed.v.04'),\n",
       " Synset('go.v.09'),\n",
       " Synset('go.v.10'),\n",
       " Synset('sound.v.02'),\n",
       " Synset('function.v.01'),\n",
       " Synset('run_low.v.01'),\n",
       " Synset('move.v.13'),\n",
       " Synset('survive.v.01'),\n",
       " Synset('go.v.16'),\n",
       " Synset('die.v.01'),\n",
       " Synset('belong.v.03'),\n",
       " Synset('go.v.19'),\n",
       " Synset('start.v.09'),\n",
       " Synset('move.v.15'),\n",
       " Synset('go.v.22'),\n",
       " Synset('go.v.23'),\n",
       " Synset('blend.v.02'),\n",
       " Synset('go.v.25'),\n",
       " Synset('fit.v.02'),\n",
       " Synset('rifle.v.02'),\n",
       " Synset('go.v.28'),\n",
       " Synset('plump.v.04'),\n",
       " Synset('fail.v.04')]"
      ]
     },
     "execution_count": 58,
     "metadata": {},
     "output_type": "execute_result"
    }
   ],
   "source": [
    "from textblob import Word \n",
    "from textblob.wordnet import VERB\n",
    "word = Word(\"good\") \n",
    "word.synsets  ##同義字詞\n",
    "\n",
    "Word(\"go\").get_synsets(pos=VERB) ##同義字詞"
   ]
  },
  {
   "cell_type": "code",
   "execution_count": 61,
   "metadata": {},
   "outputs": [
    {
     "data": {
      "text/plain": [
       "['a member of the genus Canis (probably descended from the common wolf) that has been domesticated by man since prehistoric times; occurs in many breeds',\n",
       " 'a dull unattractive unpleasant girl or woman',\n",
       " 'informal term for a man',\n",
       " 'someone who is morally reprehensible',\n",
       " 'a smooth-textured sausage of minced beef or pork usually smoked; often served on a bread roll',\n",
       " 'a hinged catch that fits into a notch of a ratchet to move a wheel forward or prevent it from moving backward',\n",
       " 'metal supports for logs in a fireplace',\n",
       " 'go after with the intent to catch']"
      ]
     },
     "execution_count": 61,
     "metadata": {},
     "output_type": "execute_result"
    }
   ],
   "source": [
    "Word(\"dog\").definitions"
   ]
  },
  {
   "cell_type": "code",
   "execution_count": 64,
   "metadata": {},
   "outputs": [
    {
     "name": "stdout",
     "output_type": "stream",
     "text": [
      "I have bad talk!\n"
     ]
    }
   ],
   "source": [
    "b = TextBlob(\"I havv badd talllk!\")\n",
    "print(b.correct()) ##糾正拼音"
   ]
  },
  {
   "cell_type": "code",
   "execution_count": 74,
   "metadata": {},
   "outputs": [
    {
     "name": "stdout",
     "output_type": "stream",
     "text": [
      "4\n",
      "4\n",
      "2\n"
     ]
    }
   ],
   "source": [
    "monty = TextBlob(\"We are Good longer the Knights who say Ni. \"\n",
    "...                     \"We are now the Knights who say good good GOOD PTANG.\")\n",
    "\n",
    "print(monty.word_counts['good']) ##計算字數\n",
    "print(monty.words.count('good'))\n",
    "print(monty.words.count('good', case_sensitive=True)) #在意大小寫"
   ]
  },
  {
   "cell_type": "code",
   "execution_count": 76,
   "metadata": {},
   "outputs": [
    {
     "data": {
      "text/plain": [
       "'zh-TW'"
      ]
     },
     "execution_count": 76,
     "metadata": {},
     "output_type": "execute_result"
    }
   ],
   "source": [
    "b = TextBlob(u\"我是帥哥\")\n",
    "b.detect_language()  ##偵測語言"
   ]
  },
  {
   "cell_type": "code",
   "execution_count": 77,
   "metadata": {},
   "outputs": [
    {
     "data": {
      "text/plain": [
       "TextBlob(\"我是個帥哥，你是誰？\")"
      ]
     },
     "execution_count": 77,
     "metadata": {},
     "output_type": "execute_result"
    }
   ],
   "source": [
    "b = TextBlob(u\"I am handsome boy, who are you\")\n",
    "b.translate(from_lang=\"en\",to=\"zh-TW\") ##翻譯"
   ]
  },
  {
   "cell_type": "code",
   "execution_count": 81,
   "metadata": {},
   "outputs": [
    {
     "name": "stdout",
     "output_type": "stream",
     "text": [
      "True\n",
      "True\n",
      "apples and bananas\n",
      "apples and bananas\n"
     ]
    }
   ],
   "source": [
    "apple_blob = TextBlob('apples')\n",
    "banana_blob = TextBlob('bananas')\n",
    "print(apple_blob < banana_blob) ##比較長短\n",
    " \n",
    "print(apple_blob == 'apples')\n",
    "print(apple_blob + ' and ' + banana_blob)\n",
    "print(\"{} and {}\".format(apple_blob, banana_blob))"
   ]
  },
  {
   "cell_type": "code",
   "execution_count": 84,
   "metadata": {},
   "outputs": [
    {
     "data": {
      "text/plain": [
       "[WordList(['Now', 'is']),\n",
       " WordList(['is', 'better']),\n",
       " WordList(['better', 'than']),\n",
       " WordList(['than', 'never'])]"
      ]
     },
     "execution_count": 84,
     "metadata": {},
     "output_type": "execute_result"
    }
   ],
   "source": [
    "blob = TextBlob(\"Now is better than never.\")\n",
    "blob.ngrams(n=2) ##反回連續字詞"
   ]
  },
  {
   "cell_type": "code",
   "execution_count": null,
   "metadata": {
    "collapsed": true
   },
   "outputs": [],
   "source": []
  }
 ],
 "metadata": {
  "kernelspec": {
   "display_name": "Python 3",
   "language": "python",
   "name": "python3"
  },
  "language_info": {
   "codemirror_mode": {
    "name": "ipython",
    "version": 3
   },
   "file_extension": ".py",
   "mimetype": "text/x-python",
   "name": "python",
   "nbconvert_exporter": "python",
   "pygments_lexer": "ipython3",
   "version": "3.6.1"
  }
 },
 "nbformat": 4,
 "nbformat_minor": 2
}
