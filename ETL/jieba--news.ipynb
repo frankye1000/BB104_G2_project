{
 "cells": [
  {
   "cell_type": "code",
   "execution_count": 46,
   "metadata": {
    "collapsed": true
   },
   "outputs": [],
   "source": [
    "import jieba\n",
    "import re\n",
    "import copy\n",
    "from datetime import datetime\n",
    "from pymongo import MongoClient\n",
    "import pprint"
   ]
  },
  {
   "cell_type": "code",
   "execution_count": 47,
   "metadata": {
    "collapsed": true
   },
   "outputs": [],
   "source": [
    "### stopword list\n",
    "stopwords_set = set([line.strip() for line in open('stopwords.txt',\"r\").readlines()])\n",
    "\n",
    "### syn dict\n",
    "syn_dict = {}\n",
    "with open(\"syn.txt\",\"r\") as f :\n",
    "    for line in f:\n",
    "        for word in line.strip(\"\\n\").split(\"\\t\")[1:]:\n",
    "            syn_dict[word] = line.strip(\"\\n\").split(\"\\t\")[0]\n",
    "\n",
    "### 中文斷詞字典\n",
    "jieba.load_userdict(\"dict.txt\")\n",
    "\n",
    "### MongoDB裡面的新聞\n",
    "client = MongoClient(\"mongodb://127.0.0.1:27017\")\n",
    "db = client[\"<db name>\"]\n",
    "collection = db[\"<collection name>\"]                 #<<<<<<<<<<<<<<<<<<<<================================= 輸入自己的新聞名子\n",
    "news_list_temp = collection.find({},{\"_id\":0,\"content\":1})          \n",
    "news_list = list(news_list_temp)"
   ]
  },
  {
   "cell_type": "code",
   "execution_count": 48,
   "metadata": {
    "collapsed": true,
    "scrolled": true
   },
   "outputs": [],
   "source": [
    "def stopwords(w):\n",
    "    if w not in stopwords_set:\n",
    "        return w\n",
    "\n",
    "def syn(w):\n",
    "    if w in syn_dict.keys():\n",
    "        w=syn_dict[w]\n",
    "        return w\n",
    "    else:\n",
    "        return w\n",
    "\n",
    "def cut(news):\n",
    "    w = jieba.cut(news, cut_all=False ,HMM=True)\n",
    "    return w\n",
    "\n",
    "def regular(w):\n",
    "    line = re.findall('[\\u4e00-\\u9fa5]+', w)\n",
    "    if len(line) > 0:\n",
    "        return line"
   ]
  },
  {
   "cell_type": "code",
   "execution_count": 49,
   "metadata": {
    "collapsed": true
   },
   "outputs": [],
   "source": [
    "def text_cleaning(paragraph):\n",
    "    me_words = []\n",
    "    words = cut(paragraph) \n",
    "    for w in words:\n",
    "        if len(w)>1:\n",
    "            if not re.match(r\"^[三|四|五|六|七|十]\", w):\n",
    "                w = regular(w)\n",
    "                if w is not None:\n",
    "                    w_stopwords = stopwords(w[0])\n",
    "                    if w_stopwords is not None:\n",
    "                        w_syn = syn(w_stopwords)\n",
    "                        me_words.append(w_syn)\n",
    "    return \" \".join(me_words)"
   ]
  },
  {
   "cell_type": "code",
   "execution_count": 50,
   "metadata": {
    "collapsed": true,
    "scrolled": false
   },
   "outputs": [],
   "source": [
    "def cleaned_news(news_list):\n",
    "    cleaned_news_list = []\n",
    "    for news in copy.deepcopy(news_list):\n",
    "        news[\"title\"]   = news[\"title\"].replace(\"\\u200b\",\"\").replace(\"\\u3000\",\"\")\n",
    "        news[\"datetime\"]= datetime.strptime(news[\"datetime\"].strip(),\"%Y-%m-%d\")\n",
    "        news[\"content\"] = text_cleaning(news[\"content\"])\n",
    "        cleaned_news_list.append(news)\n",
    "    return cleaned_news_list"
   ]
  },
  {
   "cell_type": "code",
   "execution_count": 51,
   "metadata": {
    "collapsed": true
   },
   "outputs": [],
   "source": [
    "def main():\n",
    "    db_cleaned = client[\"db name\"]\n",
    "    collection = db_cleaned[\"<collection name>\"]  #<<<<<<<<<<<<<<<<<<<<=============================                \n",
    "#     print(cleaned_news(news_list))\n",
    "    collection.insert_many(cleaned_news(news_list))  \n",
    "    content_list=[]\n",
    "    \n",
    "    ##All News data\n",
    "    for n in cleaned_news(news_list):\n",
    "        content_list.append(n[\"content\"])\n",
    "    All_news = str(content_list).replace(\"[\",\"\").replace(\"]\",\"\").replace(\"'\",\"\").replace(\",\",\"\")\n",
    "    with open(\"All_news.txt\",\"w\",encoding=\"utf-8\") as f:\n",
    "        f.write(All_news)"
   ]
  },
  {
   "cell_type": "code",
   "execution_count": 52,
   "metadata": {
    "collapsed": true,
    "scrolled": true
   },
   "outputs": [],
   "source": [
    "if __name__ == \"__main__\":\n",
    "    main()  "
   ]
  }
 ],
 "metadata": {
  "kernelspec": {
   "display_name": "Python 3",
   "language": "python",
   "name": "python3"
  },
  "language_info": {
   "codemirror_mode": {
    "name": "ipython",
    "version": 3
   },
   "file_extension": ".py",
   "mimetype": "text/x-python",
   "name": "python",
   "nbconvert_exporter": "python",
   "pygments_lexer": "ipython3",
   "version": "3.6.1"
  }
 },
 "nbformat": 4,
 "nbformat_minor": 2
}
