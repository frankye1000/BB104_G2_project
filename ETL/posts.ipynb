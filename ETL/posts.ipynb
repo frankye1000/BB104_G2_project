{
 "cells": [
  {
   "cell_type": "code",
   "execution_count": 3,
   "metadata": {
    "collapsed": true
   },
   "outputs": [],
   "source": [
    "import jieba\n",
    "import re\n",
    "import copy\n",
    "from datetime import datetime\n",
    "from pymongo import MongoClient\n",
    "import pprint\n",
    "import jieba.posseg as pseg"
   ]
  },
  {
   "cell_type": "code",
   "execution_count": 4,
   "metadata": {},
   "outputs": [
    {
     "name": "stderr",
     "output_type": "stream",
     "text": [
      "Building prefix dict from the default dictionary ...\n",
      "Loading model from cache C:\\Users\\Java\\AppData\\Local\\Temp\\jieba.cache\n",
      "Loading model cost 0.762 seconds.\n",
      "Prefix dict has been built succesfully.\n"
     ]
    }
   ],
   "source": [
    "### 載入停用字檔案，並做成一個list\n",
    "stopwords_list = [line.strip() for line in open('stopwords.txt',\"r\").readlines()]\n",
    "\n",
    "### 載入同義字檔案，並做成一個字典\n",
    "syn_dict = {}\n",
    "with open(\"syn.txt\",\"r\") as f :\n",
    "    for line in f:\n",
    "        for word in line.strip(\"\\n\").split(\"\\t\")[1:]:\n",
    "            syn_dict[word] = line.strip(\"\\n\").split(\"\\t\")[0]\n",
    "\n",
    "### 載入中文斷詞字典\n",
    "jieba.load_userdict(\"dict.txt\")\n",
    "# jieba.set_dictionary(\"dict.txt\")"
   ]
  },
  {
   "cell_type": "code",
   "execution_count": 5,
   "metadata": {
    "collapsed": true
   },
   "outputs": [],
   "source": [
    "def stopwords(w):\n",
    "    if w not in stopwords_list:\n",
    "        return w\n",
    "\n",
    "def syn(w):\n",
    "    if w in syn_dict.keys():\n",
    "        w=syn_dict[w]\n",
    "        return w\n",
    "    else:\n",
    "        return w\n",
    "\n",
    "def cut(news):\n",
    "    w = jieba.cut(news, cut_all=False ,HMM=True)\n",
    "    return w\n",
    "\n",
    "def regular(w):\n",
    "    line = re.findall('[\\u4e00-\\u9fa5]+', w)\n",
    "    if len(line) > 0:\n",
    "        return line"
   ]
  },
  {
   "cell_type": "code",
   "execution_count": 6,
   "metadata": {
    "collapsed": true
   },
   "outputs": [],
   "source": [
    "def text_noun_cleaning(text):\n",
    "    me_words = []\n",
    "    words = [(word, flag) for word, flag in pseg.cut(text)]\n",
    "    words = [word[0] for word in list(filter(lambda x: x[1] == \"n\", words))]\n",
    "    for w in words:\n",
    "        if len(w)>1:\n",
    "            w = regular(w)\n",
    "            if w is not None:\n",
    "                w_stopwords = stopwords(w[0])\n",
    "                if w_stopwords is not None:\n",
    "                    w_syn = syn(w_stopwords)\n",
    "                    me_words.append(w_syn)\n",
    "    return \" \".join(me_words)"
   ]
  },
  {
   "cell_type": "code",
   "execution_count": null,
   "metadata": {
    "collapsed": true
   },
   "outputs": [],
   "source": []
  },
  {
   "cell_type": "markdown",
   "metadata": {
    "collapsed": true
   },
   "source": [
    "# pretreat posts"
   ]
  },
  {
   "cell_type": "code",
   "execution_count": null,
   "metadata": {
    "scrolled": true
   },
   "outputs": [],
   "source": [
    "from pymongo import MongoClient\n",
    "client = MongoClient(\"mongodb://127.0.0.1:27017\")\n",
    "db = client[\"<db name>\"]\n",
    "collection_names = db.collection_names()"
   ]
  },
  {
   "cell_type": "code",
   "execution_count": 2,
   "metadata": {},
   "outputs": [
    {
     "data": {
      "text/plain": [
       "['ccchiang',\n",
       " 'ct',\n",
       " 'ting',\n",
       " 'jailong',\n",
       " 'kc',\n",
       " 'wentsan',\n",
       " 'll',\n",
       " 'powerkun',\n",
       " 'houyouyi',\n",
       " 'cu',\n",
       " 'yao',\n",
       " 'chengyuan',\n",
       " 'lu',\n",
       " 'Freddy',\n",
       " 'kikuChen',\n",
       " 'iw',\n",
       " 'kp',\n",
       " 'wanan',\n",
       " 'chimai',\n",
       " 'yj']"
      ]
     },
     "execution_count": 2,
     "metadata": {},
     "output_type": "execute_result"
    }
   ],
   "source": [
    "post_names = [collection_name for collection_name in collection_names if collection_name.endswith(\"posts\")]\n",
    "comment_names = [collection_name for collection_name in collection_names if collection_name.endswith(\"comments\")]\n",
    "reaction_names = [collection_name for collection_name in collection_names if collection_name.endswith(\"reactions\")]\n",
    "\n",
    "politician_names = [post_name.split(\"_\")[0] for post_name in post_names]\n",
    "politician_names"
   ]
  },
  {
   "cell_type": "code",
   "execution_count": 3,
   "metadata": {
    "collapsed": true,
    "scrolled": true
   },
   "outputs": [],
   "source": [
    "data_list = []\n",
    "\n",
    "for politician_name in politician_names:\n",
    "    post_p_list = []\n",
    "    collection = db[politician_name + \"_posts\"]\n",
    "    posts = collection.find({}, {\"_id\":0})\n",
    "    for p in posts:\n",
    "        if \"message\" in p:\n",
    "            p[\"politician_id\"] = p[\"post_id\"].split(\"_\")[0]\n",
    "            p[\"haha\"] = db[politician_name + \"_reactions\"].count({\"type\":\"HAHA\", \"post_id\": p[\"post_id\"]})\n",
    "            p[\"like\"] = db[politician_name + \"_reactions\"].count({\"type\":\"LIKE\", \"post_id\": p[\"post_id\"]})\n",
    "            p[\"love\"] = db[politician_name + \"_reactions\"].count({\"type\":\"LOVE\", \"post_id\": p[\"post_id\"]})\n",
    "            p[\"sad\"] = db[politician_name + \"_reactions\"].count({\"type\":\"SAD\", \"post_id\": p[\"post_id\"]})\n",
    "            p[\"wow\"] = db[politician_name + \"_reactions\"].count({\"type\":\"WOW\", \"post_id\": p[\"post_id\"]})\n",
    "            p[\"angry\"] = db[politician_name + \"_reactions\"].count({\"type\":\"ANGRY\", \"post_id\": p[\"post_id\"]})\n",
    "            p[\"likes\"] = int(p[\"haha\"])+int(p[\"like\"])+int(p[\"love\"])+int(p[\"sad\"])+int(p[\"wow\"])+int(p[\"angry\"])\n",
    "            post_p_list.append(p)\n",
    "    data_list.extend(post_p_list)"
   ]
  },
  {
   "cell_type": "code",
   "execution_count": 4,
   "metadata": {},
   "outputs": [
    {
     "data": {
      "text/plain": [
       "7877"
      ]
     },
     "execution_count": 4,
     "metadata": {},
     "output_type": "execute_result"
    }
   ],
   "source": [
    "len(data_list)"
   ]
  },
  {
   "cell_type": "code",
   "execution_count": 5,
   "metadata": {},
   "outputs": [
    {
     "data": {
      "text/plain": [
       "<pymongo.results.InsertManyResult at 0x1803c5403c8>"
      ]
     },
     "execution_count": 5,
     "metadata": {},
     "output_type": "execute_result"
    }
   ],
   "source": [
    "from pymongo import MongoClient\n",
    "client = MongoClient(\"mongodb://127.0.0.1:27017\")\n",
    "db = client[\"<db name>\"]\n",
    "collections = db[\"<collection name>\"]\n",
    "collections.insert_many(data_list)"
   ]
  },
  {
   "cell_type": "code",
   "execution_count": null,
   "metadata": {
    "collapsed": true
   },
   "outputs": [],
   "source": []
  },
  {
   "cell_type": "code",
   "execution_count": null,
   "metadata": {
    "collapsed": true
   },
   "outputs": [],
   "source": []
  },
  {
   "cell_type": "markdown",
   "metadata": {
    "collapsed": true
   },
   "source": [
    "# project posts"
   ]
  },
  {
   "cell_type": "code",
   "execution_count": 6,
   "metadata": {
    "collapsed": true
   },
   "outputs": [],
   "source": [
    "from pymongo import MongoClient \n",
    "client = MongoClient(\"mongodb://127.0.0.1:27017\")\n",
    "db = client[\"<db name>\"]\n",
    "collection = db[\"<collection name>\"]\n",
    "\n",
    "db1 = client[\"<db name>\"]\n",
    "reaction_collect = db1[\"<collection name>\"]\n",
    "comment_collect = db1[\"<collection name>\"]"
   ]
  },
  {
   "cell_type": "code",
   "execution_count": 7,
   "metadata": {
    "collapsed": true
   },
   "outputs": [],
   "source": [
    "posts = list(collection.find({}, {\"_id\":0}))"
   ]
  },
  {
   "cell_type": "code",
   "execution_count": 8,
   "metadata": {
    "collapsed": true,
    "scrolled": true
   },
   "outputs": [],
   "source": [
    "cleaned_posts = []\n",
    "\n",
    "for post in posts:\n",
    "    \n",
    "    comments_with_score = list(comment_collect.find({\"post_id\": post[\"post_id\"], \"score\": {\"$nin\": [None]}}, {\"_id\":0, \"score\":1, \"likes\":1}))\n",
    "    if len(comments_with_score) != 0:\n",
    "        post[\"post_score\"] = sum([i[\"score\"] * (1 + i[\"likes\"] / 100) for i in comments_with_score]) / len(comments_with_score)\n",
    "    else:\n",
    "        post[\"post_score\"] = None\n",
    "        \n",
    "    post[\"comment_numbers\"] = comment_collect.count({\"post_id\": post[\"post_id\"]})\n",
    "    if post[\"comment_numbers\"] != 0:\n",
    "        like_list = list(comment_collect.find({\"post_id\": post[\"post_id\"]}, {\"_id\":0, \"likes\":1}))\n",
    "        post[\"avg_like\"] = sum([i[\"likes\"] for i in like_list]) / post[\"comment_numbers\"]\n",
    "    else:\n",
    "        post[\"avg_like\"] = 0\n",
    "    \n",
    "    \n",
    "    comments_with_gender = comment_collect.count({\"post_id\": post[\"post_id\"], \"gender\": {\"$nin\": [None]}})\n",
    "    if comments_with_gender != 0:\n",
    "        comments_with_gender_girl = comment_collect.count({\"post_id\": post[\"post_id\"], \"gender\": {\"$in\": [1]}})\n",
    "        post[\"comment_girl_ratio\"] = comments_with_gender_girl / comments_with_gender\n",
    "    else:\n",
    "        post[\"comment_girl_ratio\"] = None\n",
    "        \n",
    "    \n",
    "    reactions_with_gender = reaction_collect.count({\"post_id\": post[\"post_id\"], \"gender\": {\"$nin\": [None]}})\n",
    "    if reactions_with_gender != 0:\n",
    "        reactions_with_gender_girl = reaction_collect.count({\"post_id\": post[\"post_id\"], \"gender\": {\"$in\": [1]}})\n",
    "        post[\"reation_girl_ratio\"] = reactions_with_gender_girl / reactions_with_gender\n",
    "    else:\n",
    "        post[\"reation_girl_ratio\"] = None\n",
    "        \n",
    "    cleaned_posts.append(post)"
   ]
  },
  {
   "cell_type": "code",
   "execution_count": 9,
   "metadata": {},
   "outputs": [
    {
     "data": {
      "text/plain": [
       "<pymongo.results.InsertManyResult at 0x1803d46be08>"
      ]
     },
     "execution_count": 9,
     "metadata": {},
     "output_type": "execute_result"
    }
   ],
   "source": [
    "post_collection = db1[\"<collection name>\"]\n",
    "post_collection.insert_many(cleaned_posts)"
   ]
  },
  {
   "cell_type": "code",
   "execution_count": null,
   "metadata": {
    "collapsed": true
   },
   "outputs": [],
   "source": []
  }
 ],
 "metadata": {
  "kernelspec": {
   "display_name": "Python 3",
   "language": "python",
   "name": "python3"
  },
  "language_info": {
   "codemirror_mode": {
    "name": "ipython",
    "version": 3
   },
   "file_extension": ".py",
   "mimetype": "text/x-python",
   "name": "python",
   "nbconvert_exporter": "python",
   "pygments_lexer": "ipython3",
   "version": "3.6.1"
  }
 },
 "nbformat": 4,
 "nbformat_minor": 2
}
