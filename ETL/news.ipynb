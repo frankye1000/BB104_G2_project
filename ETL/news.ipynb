{
 "cells": [
  {
   "cell_type": "code",
   "execution_count": 62,
   "metadata": {
    "collapsed": true
   },
   "outputs": [],
   "source": [
    "from pymongo import MongoClient\n",
    "import re\n",
    "\n",
    "client = MongoClient(\"mongodb://127.0.0.1:27017\")\n",
    "db = client[\"<db name>\"]\n",
    "collection = db[\"<collection name>\"]\n",
    "\n",
    "politician_dict = {\"柯p\":\"136845026417486\", \n",
    "                   \"柯市長\":\"136845026417486\", \n",
    "                   \"柯文哲\":\"136845026417486\", \n",
    "                   \"蔡英文\":\"46251501064\", \n",
    "                   \"蔡總統\":\"46251501064\",\n",
    "                   \"李錫錕\":\"360151611020961\", \n",
    "                   \"錕P\":\"360151611020961\", \n",
    "                   \"黃國昌\":\"449664581882455\", \n",
    "                   \"戰神\":\"449664581882455\", \n",
    "                   \"侯友宜\":\"261813197541354\", \n",
    "                   \"盧秀燕\":\"109391162488374\", \n",
    "                   \"江啟臣\":\"191690867518507\", \n",
    "                   \"陳其邁\":\"122936517768637\", \n",
    "                   \"鄭文燦\":\"333058400178329\", \n",
    "                   \"馬英九\":\"118250504903757\", \n",
    "                   \"賴清德\":\"152472278103133\", \n",
    "                   \"洪慈庸\":\"852926604746233\", \n",
    "                   \"朱立倫\":\"10150145806225128\", \n",
    "                   \"林昶佐\":\"365320250345879\", \n",
    "                   \"陳菊\":\"232716627404\", \n",
    "                   \"丁守中\":\"600540963315152\", \n",
    "                   \"林佳龍\":\"153819538009272\", \n",
    "                   \"蔣萬安\":\"805460986214082\",\n",
    "                   \"姚文智\":\"1380211668909443\", \n",
    "                   \"蔡正元\": \"184799244894343\"}"
   ]
  },
  {
   "cell_type": "code",
   "execution_count": 63,
   "metadata": {},
   "outputs": [
    {
     "data": {
      "text/plain": [
       "dict_keys(['柯p', '柯市長', '柯文哲', '蔡英文', '蔡總統', '李錫錕', '錕P', '黃國昌', '戰神', '侯友宜', '盧秀燕', '江啟臣', '陳其邁', '鄭文燦', '馬英九', '賴清德', '洪慈庸', '朱立倫', '林昶佐', '陳菊', '丁守中', '林佳龍', '蔣萬安', '姚文智', '蔡正元'])"
      ]
     },
     "execution_count": 63,
     "metadata": {},
     "output_type": "execute_result"
    }
   ],
   "source": [
    "politician_names = politician_dict.keys()\n",
    "politician_names"
   ]
  },
  {
   "cell_type": "code",
   "execution_count": 64,
   "metadata": {
    "collapsed": true
   },
   "outputs": [],
   "source": [
    "news_list = []\n",
    "\n",
    "for content in collection.find({},{\"_id\":0,\"content\":1,\"media\":1,\"datetime\":1}):\n",
    "    message = content[\"content\"]\n",
    "    \n",
    "    news_temp_list = []\n",
    "    for politician_name in politician_names:\n",
    "        news_temp_list.append((politician_dict[politician_name], len(re.findall(politician_name, message))))\n",
    "        \n",
    "    news_dict = {}    \n",
    "    for i in news_temp_list:\n",
    "        if i[0] not in news_dict.keys():\n",
    "            news_dict[i[0]] = i[1]\n",
    "        else:\n",
    "            news_dict[i[0]] += i[1]\n",
    "            \n",
    "    news_temp_list2 = []\n",
    "    for k, v in news_dict.items():\n",
    "        temp = {}\n",
    "        temp[\"politician_id\"] = k\n",
    "        temp[\"created_time\"] = content[\"datetime\"]\n",
    "        temp[\"media\"] = content[\"media\"]\n",
    "        temp[\"times\"] = v\n",
    "#         temp[\"title\"] = content[\"title\"]\n",
    "        if temp[\"times\"] > 0:\n",
    "            news_temp_list2.append(temp)\n",
    "            \n",
    "        \n",
    "    \n",
    "    news_list.extend(news_temp_list2)"
   ]
  },
  {
   "cell_type": "code",
   "execution_count": 65,
   "metadata": {},
   "outputs": [
    {
     "data": {
      "text/plain": [
       "<pymongo.results.InsertManyResult at 0x262c742e388>"
      ]
     },
     "execution_count": 65,
     "metadata": {},
     "output_type": "execute_result"
    }
   ],
   "source": [
    "db1 = client[\"<db name>\"]\n",
    "collect = db1[\"<collection name>\"]\n",
    "collect.insert_many(news_list)"
   ]
  },
  {
   "cell_type": "code",
   "execution_count": null,
   "metadata": {
    "collapsed": true
   },
   "outputs": [],
   "source": []
  }
 ],
 "metadata": {
  "kernelspec": {
   "display_name": "Python 3",
   "language": "python",
   "name": "python3"
  },
  "language_info": {
   "codemirror_mode": {
    "name": "ipython",
    "version": 3
   },
   "file_extension": ".py",
   "mimetype": "text/x-python",
   "name": "python",
   "nbconvert_exporter": "python",
   "pygments_lexer": "ipython3",
   "version": "3.6.1"
  }
 },
 "nbformat": 4,
 "nbformat_minor": 2
}
