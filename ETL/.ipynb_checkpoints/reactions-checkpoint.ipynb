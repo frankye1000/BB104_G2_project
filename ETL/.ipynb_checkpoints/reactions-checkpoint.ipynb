{
 "cells": [
  {
   "cell_type": "code",
   "execution_count": 8,
   "metadata": {
    "collapsed": true
   },
   "outputs": [],
   "source": [
    "import re\n",
    "import pickle\n",
    "\n",
    "with open(\"gender\", \"rb\") as f:\n",
    "    clf1 = pickle.load(f)\n",
    "with open(\"vectorizer\", \"rb\") as f1:\n",
    "    vectorizer = pickle.load(f1)\n",
    "\n",
    "from pymongo import MongoClient\n",
    "client = MongoClient(\"mongodb://127.0.0.1:27017\")\n",
    "db = client[\"<db name>\"]\n",
    "collection_names = db.collection_names()"
   ]
  },
  {
   "cell_type": "code",
   "execution_count": 9,
   "metadata": {
    "scrolled": false
   },
   "outputs": [
    {
     "data": {
      "text/plain": [
       "['ccchiang',\n",
       " 'ct',\n",
       " 'ting',\n",
       " 'jailong',\n",
       " 'kc',\n",
       " 'wentsan',\n",
       " 'll',\n",
       " 'powerkun',\n",
       " 'houyouyi',\n",
       " 'cu',\n",
       " 'yao',\n",
       " 'chengyuan',\n",
       " 'lu',\n",
       " 'Freddy',\n",
       " 'kikuChen',\n",
       " 'iw',\n",
       " 'kp',\n",
       " 'wanan',\n",
       " 'chimai',\n",
       " 'yj']"
      ]
     },
     "execution_count": 9,
     "metadata": {},
     "output_type": "execute_result"
    }
   ],
   "source": [
    "post_names = [collection_name for collection_name in collection_names if collection_name.endswith(\"posts\")]\n",
    "politician_names = [post_name.split(\"_\")[0] for post_name in post_names]\n",
    "politician_names"
   ]
  },
  {
   "cell_type": "code",
   "execution_count": 10,
   "metadata": {
    "collapsed": true
   },
   "outputs": [],
   "source": [
    "db1 = client[\"<db name>\"]\n",
    "collect1 = db1[\"<collection name>\"]"
   ]
  },
  {
   "cell_type": "code",
   "execution_count": 11,
   "metadata": {
    "scrolled": true
   },
   "outputs": [
    {
     "name": "stdout",
     "output_type": "stream",
     "text": [
      "finish ccchiang\n",
      "finish ct\n",
      "finish ting\n",
      "finish jailong\n",
      "finish kc\n",
      "finish wentsan\n",
      "finish ll\n",
      "finish powerkun\n",
      "finish houyouyi\n",
      "finish cu\n",
      "finish yao\n",
      "finish chengyuan\n",
      "finish lu\n",
      "finish Freddy\n",
      "finish kikuChen\n",
      "finish iw\n",
      "finish kp\n",
      "finish wanan\n",
      "finish chimai\n",
      "finish yj\n"
     ]
    }
   ],
   "source": [
    "for politician_name in politician_names:\n",
    "    collection = db[politician_name + \"_reactions\"]\n",
    "    reactions = list(collection.find({},{\"_id\":0}))\n",
    "\n",
    "    \n",
    "    cleaned_reaction = []\n",
    "    for reaction in reactions:\n",
    "        try:\n",
    "            name = \"\".join(re.findall('[\\u4e00-\\u9fa5]+', reaction[\"name\"]))\n",
    "\n",
    "            if len(name) == 2:\n",
    "                reaction[\"gender\"] = int(clf1.predict(vectorizer.transform([name[-1]]).toarray())[0])\n",
    "            else:\n",
    "                reaction[\"gender\"] = int(clf1.predict(vectorizer.transform([name[-2] + \" \" + name[-1]]).toarray())[0])\n",
    "        except:\n",
    "            reaction[\"gender\"] = None\n",
    "    \n",
    "        cleaned_reaction.append(reaction)\n",
    "        \n",
    "    collect1.insert_many(cleaned_reaction)\n",
    "    print(\"finish %s\"%politician_name)"
   ]
  }
 ],
 "metadata": {
  "kernelspec": {
   "display_name": "Python 3",
   "language": "python",
   "name": "python3"
  },
  "language_info": {
   "codemirror_mode": {
    "name": "ipython",
    "version": 3
   },
   "file_extension": ".py",
   "mimetype": "text/x-python",
   "name": "python",
   "nbconvert_exporter": "python",
   "pygments_lexer": "ipython3",
   "version": "3.6.1"
  }
 },
 "nbformat": 4,
 "nbformat_minor": 2
}
