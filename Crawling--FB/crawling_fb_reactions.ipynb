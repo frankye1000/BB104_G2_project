{
 "cells": [
  {
   "cell_type": "markdown",
   "metadata": {},
   "source": [
    "# 記得要改桶子名子"
   ]
  },
  {
   "cell_type": "code",
   "execution_count": 19,
   "metadata": {
    "collapsed": true
   },
   "outputs": [],
   "source": [
    "import pandas as pd\n",
    "import json\n",
    "import requests\n",
    "import pprint\n",
    "from pymongo import MongoClient\n",
    "from requests.adapters import HTTPAdapter\n",
    "\n",
    "headers={'Connection': 'close'}\n",
    "client = MongoClient(\"mongodb://127.0.0.1:27017\")\n",
    "db = client[\"fb\"]\n",
    "collection           = db[\"<db_name>\"]            ###<<<<<<<<<<<<=============\n",
    "political_reactions  = db[\"<collecion_name>\"]     ###<<<<<<<<<<<<============="
   ]
  },
  {
   "cell_type": "code",
   "execution_count": 25,
   "metadata": {
    "collapsed": true
   },
   "outputs": [],
   "source": [
    "def get_reactions(post_id):\n",
    "    list_f = []\n",
    "    ##first page\n",
    "    resp = requests.get(\"https://graph.facebook.com/v2.5/%s?fields=reactions.limit(100){type,name}&access_token=<your fb token>\"%post_id,headers=headers)\n",
    "    \n",
    "    ##first page insert to list\n",
    "    for o in resp.json()[\"reactions\"][\"data\"]:\n",
    "        try:\n",
    "            dic_1 = {}\n",
    "            dic_1[\"post_id\"] = post_id\n",
    "            dic_1[\"id\"]      = o[\"id\"]\n",
    "            dic_1[\"name\"]    = o[\"name\"]\n",
    "            dic_1[\"type\"]    = o[\"type\"]\n",
    "            list_f.append(dic_1)\n",
    "        except:\n",
    "            pass\n",
    "    \n",
    "    ##second page\n",
    "    if 'next' in resp.json()['reactions']['paging']:\n",
    "        p2 = resp.json()['reactions']['paging']['next']\n",
    "    \n",
    "    ##other page\n",
    "        res = requests.get(p2)\n",
    "        while \"paging\" in res.json():\n",
    "            for k in res.json()[\"data\"]:\n",
    "                try:\n",
    "                    dic_2 = {}\n",
    "                    dic_2[\"post_id\"] = post_id\n",
    "                    dic_2[\"id\"]      = k[\"id\"]\n",
    "                    dic_2[\"name\"]    = k[\"name\"]\n",
    "                    dic_2[\"type\"]    = k[\"type\"]\n",
    "                    list_f.append(dic_2)\n",
    "                except:\n",
    "                    pass\n",
    "\n",
    "            if \"next\" in res.json()[\"paging\"]:\n",
    "                res = requests.get(res.json()[\"paging\"][\"next\"])\n",
    "            else:\n",
    "                break\n",
    "        return list_f\n",
    "    else :\n",
    "        return None"
   ]
  },
  {
   "cell_type": "code",
   "execution_count": 31,
   "metadata": {
    "collapsed": true
   },
   "outputs": [],
   "source": [
    "def main():\n",
    "    pid_cursor = collection.find({},{\"_id\":0,\"post_id\":1},no_cursor_timeout = True)\n",
    "    for post_id in pid_cursor:\n",
    "#         post_id = post_id['post_id']\n",
    "        react = get_reactions(post_id)\n",
    "        if react:\n",
    "            political_reactions.insert_many(react)\n",
    "        print(\"finish : %s\"%post_id)\n",
    "    pid_cursor.close()"
   ]
  },
  {
   "cell_type": "code",
   "execution_count": null,
   "metadata": {
    "scrolled": true
   },
   "outputs": [],
   "source": [
    "if __name__ == \"__main__\":\n",
    "    main()"
   ]
  },
  {
   "cell_type": "code",
   "execution_count": null,
   "metadata": {
    "collapsed": true
   },
   "outputs": [],
   "source": []
  }
 ],
 "metadata": {
  "kernelspec": {
   "display_name": "Python 3",
   "language": "python",
   "name": "python3"
  },
  "language_info": {
   "codemirror_mode": {
    "name": "ipython",
    "version": 3
   },
   "file_extension": ".py",
   "mimetype": "text/x-python",
   "name": "python",
   "nbconvert_exporter": "python",
   "pygments_lexer": "ipython3",
   "version": "3.6.1"
  }
 },
 "nbformat": 4,
 "nbformat_minor": 2
}
