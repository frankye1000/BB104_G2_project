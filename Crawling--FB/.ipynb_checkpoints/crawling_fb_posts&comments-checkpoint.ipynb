{
 "cells": [
  {
   "cell_type": "code",
   "execution_count": 19,
   "metadata": {
    "collapsed": true
   },
   "outputs": [],
   "source": [
    "import requests\n",
    "import json\n",
    "import facebook\n",
    "import re\n",
    "from datetime import datetime\n",
    "import concurrent.futures\n",
    "from pymongo import MongoClient"
   ]
  },
  {
   "cell_type": "code",
   "execution_count": 20,
   "metadata": {
    "collapsed": true
   },
   "outputs": [],
   "source": [
    "token = \"<your fb token>\"                                                                    #<<<<<<<<<<<<===================    \n",
    "group_id = requests.get('https://graph.facebook.com/?id={}&access_token={}'\\\n",
    "                        .format(\"<politianID>\", token)).json()[\"id\"]                         #<<<<<<<<<<<<===================\n",
    "graph = facebook.GraphAPI(access_token = token)\n",
    "\n",
    "client = MongoClient(\"mongodb://127.0.0.1:27017\")\n",
    "db = client[\"<db_name>\"]"
   ]
  },
  {
   "cell_type": "code",
   "execution_count": 21,
   "metadata": {
    "collapsed": true
   },
   "outputs": [],
   "source": [
    "def get_comments(post_id):\n",
    "    comments = []\n",
    "    obj_page = requests.get(\"https://graph.facebook.com/v2.6/%s?fields=comments{created_time,id,message,likes.limit(0).summary(True),from}&access_token=%s\"%(post_id,token)).json()\n",
    "    if \"comments\" in obj_page:\n",
    "        obj_page = obj_page[\"comments\"]\n",
    "    \n",
    "        while True:\n",
    "            for comment in obj_page[\"data\"]:\n",
    "                comment[\"created_time\"] = datetime.strptime(comment[\"created_time\"], \"%Y-%m-%dT%H:%M:%S+0000\")\n",
    "                comment[\"likes\"] = comment[\"likes\"][\"summary\"][\"total_count\"]\n",
    "                comment[\"post_id\"] = post_id\n",
    "                comments.append(comment)\n",
    "                print(\"  finish {}\".format(comment[\"id\"]))\n",
    "\n",
    "            try:\n",
    "                if \"next\" in obj_page[\"paging\"]:\n",
    "                    next_page = obj_page[\"paging\"][\"next\"]\n",
    "                    obj_page = requests.get(next_page).json()\n",
    "                else:\n",
    "                    break\n",
    "            except:\n",
    "                break\n",
    "\n",
    "        return comments\n",
    "    else:\n",
    "        return None"
   ]
  },
  {
   "cell_type": "code",
   "execution_count": 22,
   "metadata": {
    "collapsed": true
   },
   "outputs": [],
   "source": [
    "def get_posts():\n",
    "    kp_posts = []\n",
    "    obj_page = graph.request(group_id,{'fields':'posts.since(2017-01-01){created_time, message,id,likes.limit(0).summary(True),shares,link}'})[\"posts\"]\n",
    "    if \"data\" in obj_page:\n",
    "        while True:\n",
    "            for post in obj_page[\"data\"]:\n",
    "                post[\"created_time\"] = datetime.strptime(post[\"created_time\"], \"%Y-%m-%dT%H:%M:%S+0000\")\n",
    "                post[\"likes\"] = post[\"likes\"][\"summary\"][\"total_count\"]\n",
    "                if \"shares\" in post:\n",
    "                    post[\"shares\"] = post[\"shares\"][\"count\"]\n",
    "                else:\n",
    "                    post[\"shares\"] = 0\n",
    "                kp_posts.append(post)\n",
    "\n",
    "                print(\"finish {}\".format(post[\"id\"]))\n",
    "\n",
    "            if \"next\" in obj_page[\"paging\"]:\n",
    "                next_page = obj_page[\"paging\"][\"next\"]\n",
    "                obj_page = requests.get(next_page).json()\n",
    "            else:\n",
    "                break\n",
    "\n",
    "        return kp_posts\n",
    "    else:\n",
    "        return None"
   ]
  },
  {
   "cell_type": "code",
   "execution_count": 23,
   "metadata": {
    "collapsed": true
   },
   "outputs": [],
   "source": [
    "def main():\n",
    "    kp_posts = get_posts()\n",
    "    posts_collections = db[\"<collection_name>\"]                          #<<<<<<<<<<<<===================\n",
    "    posts_collections.insert_many(kp_posts)\n",
    "    post_ids = [post[\"id\"] for post in kp_posts]\n",
    "    \n",
    "    kp_comments_collections = db[\"<collecion_name>\"]                       #<<<<<<<<<<<<=================== \n",
    "    for post_id in post_ids:\n",
    "        comments = get_comments(post_id)\n",
    "        if comments:\n",
    "            kp_comments_collections.insert_many(comments)"
   ]
  },
  {
   "cell_type": "code",
   "execution_count": null,
   "metadata": {},
   "outputs": [],
   "source": [
    "if __name__ == \"__main__\":\n",
    "    main()"
   ]
  },
  {
   "cell_type": "code",
   "execution_count": null,
   "metadata": {
    "collapsed": true
   },
   "outputs": [],
   "source": []
  }
 ],
 "metadata": {
  "kernelspec": {
   "display_name": "Python 3",
   "language": "python",
   "name": "python3"
  },
  "language_info": {
   "codemirror_mode": {
    "name": "ipython",
    "version": 3
   },
   "file_extension": ".py",
   "mimetype": "text/x-python",
   "name": "python",
   "nbconvert_exporter": "python",
   "pygments_lexer": "ipython3",
   "version": "3.6.1"
  }
 },
 "nbformat": 4,
 "nbformat_minor": 2
}
