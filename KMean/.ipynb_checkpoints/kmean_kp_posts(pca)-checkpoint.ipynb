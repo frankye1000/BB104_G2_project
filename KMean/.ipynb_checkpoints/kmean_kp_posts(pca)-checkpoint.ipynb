{
 "cells": [
  {
   "cell_type": "code",
   "execution_count": 1,
   "metadata": {
    "collapsed": true
   },
   "outputs": [],
   "source": [
    "from pymongo import MongoClient\n",
    "client = MongoClient(\"mongodb://127.0.0.1:27017\")\n",
    "db = client[\"<db name>\"]\n",
    "\n",
    "collection = db[\"<collection name>\"]\n",
    "posts = collection.find({},{\"_id\":0})"
   ]
  },
  {
   "cell_type": "code",
   "execution_count": null,
   "metadata": {
    "collapsed": true
   },
   "outputs": [],
   "source": [
    "po = [i for i in posts]\n",
    "po"
   ]
  },
  {
   "cell_type": "code",
   "execution_count": null,
   "metadata": {
    "collapsed": true,
    "scrolled": true
   },
   "outputs": [],
   "source": [
    "pos = [j[\"message\"] for j in po]\n",
    "pos"
   ]
  },
  {
   "cell_type": "code",
   "execution_count": null,
   "metadata": {
    "collapsed": true
   },
   "outputs": [],
   "source": [
    "poss = list(zip([j[\"message\"] for j in po],[j[\"likes\"] for j in po]))\n",
    "poss"
   ]
  },
  {
   "cell_type": "code",
   "execution_count": null,
   "metadata": {
    "collapsed": true
   },
   "outputs": [],
   "source": []
  },
  {
   "cell_type": "code",
   "execution_count": null,
   "metadata": {
    "collapsed": true,
    "scrolled": true
   },
   "outputs": [],
   "source": [
    "from  sklearn.feature_extraction.text  import  CountVectorizer  \n",
    "  \n",
    "#將文本中的詞語轉換為詞頻矩陣  \n",
    "vectorizer = CountVectorizer()  \n",
    "#計算個詞語出現的次數  \n",
    "X = vectorizer.fit_transform(pos)  \n",
    "#獲取詞袋中所有文本關鍵詞  \n",
    "word = vectorizer.get_feature_names() \n",
    "word=[w for w in word if w.startswith(\"七\")==False]\n",
    "word=[w for w in word if w.startswith(\"三\")==False]\n",
    "print(word) \n",
    "#查看詞頻結果  \n",
    "print(X.toarray()) "
   ]
  },
  {
   "cell_type": "code",
   "execution_count": 8,
   "metadata": {
    "scrolled": false
   },
   "outputs": [
    {
     "data": {
      "text/plain": [
       "array([[ 0.,  0.,  0., ...,  0.,  0.,  0.],\n",
       "       [ 0.,  0.,  0., ...,  0.,  0.,  0.],\n",
       "       [ 0.,  0.,  0., ...,  0.,  0.,  0.],\n",
       "       ..., \n",
       "       [ 0.,  0.,  0., ...,  0.,  0.,  0.],\n",
       "       [ 0.,  0.,  0., ...,  0.,  0.,  0.],\n",
       "       [ 0.,  0.,  0., ...,  0.,  0.,  0.]])"
      ]
     },
     "execution_count": 8,
     "metadata": {},
     "output_type": "execute_result"
    }
   ],
   "source": [
    "from  sklearn.feature_extraction.text  import  TfidfTransformer  \n",
    "  \n",
    "transformer = TfidfTransformer()  \n",
    "#將詞頻矩陣X統計成TF-IDF值  \n",
    "tfidf = transformer.fit_transform(X)  \n",
    "#查看數據結構 tfidf[i][j]表示i類文本中的tf-idf權重  \n",
    "tfidf.toarray()"
   ]
  },
  {
   "cell_type": "code",
   "execution_count": null,
   "metadata": {
    "collapsed": true
   },
   "outputs": [],
   "source": []
  },
  {
   "cell_type": "code",
   "execution_count": null,
   "metadata": {
    "collapsed": true
   },
   "outputs": [],
   "source": [
    "from sklearn.decomposition import PCA \n",
    "pca = PCA(n_components = 20)\n",
    "new_tfidf = pca.fit_transform(tfidf.toarray())\n",
    "new_tfidf"
   ]
  },
  {
   "cell_type": "code",
   "execution_count": 79,
   "metadata": {
    "collapsed": true,
    "scrolled": true
   },
   "outputs": [],
   "source": [
    "from sklearn.cluster import KMeans\n",
    "kmeans_fit = KMeans(n_clusters = 11).fit(new_tfidf)"
   ]
  },
  {
   "cell_type": "code",
   "execution_count": 80,
   "metadata": {
    "scrolled": true
   },
   "outputs": [
    {
     "data": {
      "text/plain": [
       "array([ 4,  1,  1,  3,  1,  1,  3,  7,  1,  6,  6,  1,  1,  3,  4,  1,  3,\n",
       "        3, 10,  7,  3,  1,  1,  9,  3,  3,  7,  1,  3,  3,  6, 10,  1,  3,\n",
       "        1,  1,  8,  7,  1,  1,  9,  4,  1,  9,  1,  4,  9,  1,  6,  1,  4,\n",
       "        1,  1,  7,  4,  3,  1,  4,  1,  7,  4,  6,  1,  6,  6,  1,  4, 10,\n",
       "        3,  0,  7,  9,  1,  1, 10,  9, 10,  4, 10, 10,  1,  1, 10, 10, 10,\n",
       "       10,  2,  2,  2,  2,  1,  1,  2, 10,  2,  2,  2, 10, 10, 10,  2,  2,\n",
       "        2, 10,  2,  2,  1,  2,  2,  2,  1, 10,  1,  1,  2,  8,  2,  3,  1,\n",
       "        1,  2,  1,  7,  7,  1,  1,  1,  2,  1,  0,  0,  0,  0,  3,  3,  1,\n",
       "        6,  6,  1,  1,  1,  7,  7,  1,  3,  3,  7,  2,  1,  3,  1,  7,  7,\n",
       "        1,  3,  1,  1,  2,  3,  3,  8,  1,  1,  4,  1,  7,  6,  6,  1,  1,\n",
       "        1,  1,  1, 10,  2,  1,  2,  7,  1,  2,  0,  1, 10,  1,  1,  3,  3,\n",
       "        1,  1,  1,  3,  0,  1,  7,  6,  1,  1,  9,  2,  3,  1, 10,  1,  1,\n",
       "        7,  1,  1,  2,  1,  1,  1, 10,  1,  2,  1,  1,  1,  1, 10,  2,  1,\n",
       "        1,  1,  1,  1,  1,  7,  1,  1,  2,  1,  3,  6,  6,  1,  7,  1,  7,\n",
       "        4,  3,  1,  1,  3, 10,  3,  6,  2,  1,  1,  7,  1,  8,  1,  1,  2,\n",
       "       10,  9,  2,  9,  1,  1,  9,  9,  9,  9,  9,  1,  1,  9,  1, 10,  1,\n",
       "        4,  6,  9,  6,  1,  1,  1,  3,  9, 10,  4,  1,  3,  2,  9,  2,  1,\n",
       "        1,  1,  1,  9,  1,  1,  5,  5,  1,  5,  5,  1,  5,  5,  5,  5,  2,\n",
       "        2,  2,  3,  1,  1,  9,  1,  3,  3])"
      ]
     },
     "execution_count": 80,
     "metadata": {},
     "output_type": "execute_result"
    }
   ],
   "source": [
    "kmeans_fit.labels_"
   ]
  },
  {
   "cell_type": "code",
   "execution_count": 72,
   "metadata": {
    "collapsed": true,
    "scrolled": true
   },
   "outputs": [],
   "source": [
    "import numpy as np\n",
    "poo = np.array(poss)\n"
   ]
  },
  {
   "cell_type": "code",
   "execution_count": null,
   "metadata": {
    "collapsed": true
   },
   "outputs": [],
   "source": []
  },
  {
   "cell_type": "code",
   "execution_count": 93,
   "metadata": {
    "scrolled": false
   },
   "outputs": [
    {
     "data": {
      "text/plain": [
       "array([[ '上任 發生 興航 空難 當時 臺北市 政府 前進 指揮所 硬體 設備 還得 民間團體 臨時 支援 有鑑於此 採購 前進 指揮所 器材車 訂定 前進 指揮所 加強 訓練 臺北市 地方 發生 重大 災害 分鐘 災害 現場 成立 前進 指揮所 這支 前進 指揮所 設立 縮時 紀錄 影片 看見 消防局 同仁 不斷 演練 展現 成果 國家 防災日 即將 來到 中度 颱風 泰利 來勢洶洶 市府 團隊 會用 最高 標準 各類 防災 災害 救援 整備 提醒 市民 朋友 居安思危 預先 做好 防災 準備 臺北市 政府 消防局 泰利 颱風 防災 資訊 臺北市 防災 資訊網 臺北市 政府 官方 帳號 防汛 資訊 訂閱 行動 防災',\n",
       "        '15843'],\n",
       "       [ '剛剛 臺北市 災害 應變 中心 收到 數據 臺北市 瞬間 陣風 平均 風力 風速 行走 相當 困難 提醒 市民 朋友 盡量 待在 必要 外出 不要 騎乘 摩托車 自行車 強風 豪雨 兩樣 交通 工具 發生 事故 機率 市府 掉以輕心 民眾 提高 警覺 安全 第一 防災 資訊 臺北市 防災 資訊網 臺北市 政府 官方 帳號 防汛 資訊 訂閱 行動 防災',\n",
       "        '14651'],\n",
       "       [ '尼莎 颱風 消息 臺北市 政府 依據 中央 氣象局 天氣 預報 資料 並經北 北基 共識 晚上 宣布 停止 上班 上課 標準 防災 資訊 臺北市 防災 資訊網 臺北市 政府 官方 帳號 防汛 資訊 訂閱 行動 防災',\n",
       "        '9206'],\n",
       "       [ '尼莎 颱風 消息 臺北市 政府 依據 中央 氣象局 天氣 預報 資料 並經北 北基 共識 早上 宣布 晚上 停止 上班 上課 尼莎 颱風 來襲 臺北市 政府 將於 時起 關閉 河川 疏散門 拖吊 駛離 河川區 車輛 時將 疏散門 全部 關閉 車主 盡速 車輛 駛離 河川區 遭受 拖吊 裁罰 因應 疏散門 關閉 紓解 堤外 停放 車輛 臨時 停車 需求 北市 時起 開放 全市 公尺 以上 道路 紅黃線 附條件 詳情 參考 停車 暫停 路邊 停車 收費 尼莎 颱風 來襲 臺北市 政府 教育局 配合 時起 恢復 上班 上課日 上午 時止 開放 部分 學校 停車場 民眾 緊急 停放 車輛 開放 學校 維護 民眾 騎乘 安全 微笑 單車 將於 時起 全面 停止 營運 服務 中心 也將 停止 服務 顧及 市民 清潔隊員 安全 晚上 暫停 收運 垃圾 廚餘 回收物 市民 暫時 垃圾 貯存 不要 排出 並請 不要 任意 丟棄 環境 衛生 堵塞 水溝 造成 淹水 災情 防災 資訊 臺北市 防災 資訊網 臺北市 政府 官方 帳號 防汛 資訊 訂閱 行動 防災',\n",
       "        '4685'],\n",
       "       [ '看到 颱風 來襲 火燒 知道 尼莎 颱風 快來 中央 氣象局 已經 下午 發布 陸上 颱風 警報 颱風 可能 直撲 台灣 臺北市 政府 局處 已經 嚴陣以待 颱風 首長 臉書 猶如 許願池 留言 洗版 臺北市 政府 決定 停班 停課 現階段 重要 無風 無雨 趕緊 做好 防颱 準備 科技 防災 手冊 放入 市府 推出 行動 防災 當中 大家 手機 掌握 防災 知識 市民 朋友 還可以 加入 臺北市 政府 官方 帳號 零時 接收 水門 關閉 停班 停課 淹水 警示 訊息 科學 幫助 更早 獲得 災害 資訊 平安 渡過 風雨 市民 朋友 現實 生活 及早 做好 各項 準備 遠離 山區 海邊 危險 地帶 切勿 掉以輕心 防災 資訊 臺北市 防災 資訊網 臺北市 政府 官方 帳號 防汛 資訊 訂閱 行動 防災',\n",
       "        '11429'],\n",
       "       [ '暴雨 襲來 嚴陣以待 中央 氣象局 預報 明天 致災 梅雨 鋒面 再度 來襲 搭配 西南 氣流 帶來 水氣 將為 西部 地區 帶來 豪雨 等級 以上 雨勢 長達 五天 以上 對付 極端 氣候 臺北市 政府 不敢 掉以輕心 環保局 防汛 來臨 清除 超過 萬頓 淤泥 水利處 更新 文山區 社子島 地區 新生 大排 周邊 抽水機組 大幅 提升 防洪 效率 市府 做好 準備 之外 拜託 市民 朋友 協助 防汛 發現 路邊 水溝 雜物 堵塞 積水 不退 撥打 市民 熱線 通知 清潔隊 如有 需要 沙包 擋水 區公所 索取 所有 問題 解決 問題 面對 風雨 考驗 這一 嚴陣以待 水門 啟閉 防汛 資訊 隨身 加入 臺北市 政府 官方 帳號 下載 臺北市 行動 防災',\n",
       "        '5716'],\n",
       "       [ '超大 豪雨 警戒 梅雨 滯留鋒面 已經 基隆 北海岸 地區 造成 嚴重 災害 臺北市 出現 強勁 雨勢 中央 氣象局 預報 這波 豪雨 以上 等級 強降雨 持續 整個 週末 我要 提醒 市民 朋友 做好 防災 準備 不要 山區 海邊 臺北市 災害 應變 中心 今日 十二 二級 開設 進入 警戒 狀態 若要 接收 第一手 防汛 資訊 市民 朋友 加入 臺北市 政府 官方 帳號 對話 下方 點選 防汛 資訊 訂閱 即可 看到 災情 資訊 隨選 訂閱 停班 停課 淹水 警示 水閘門 啟閉 紅黃線 停車 資訊 突發性 瞬時 強降雨 已經 做好 防汛 整備 市民 朋友 提高 警覺 加入 臺北市 政府 官方 帳號 取得 第一手 防汛 資訊',\n",
       "        '8120']],\n",
       "      dtype='<U1596')"
      ]
     },
     "execution_count": 93,
     "metadata": {},
     "output_type": "execute_result"
    }
   ],
   "source": [
    "poo[kmeans_fit.labels_==0] #0災害1生活2世大運3住宅4長照5燈節7社區改造8交通9觀光10世大運"
   ]
  },
  {
   "cell_type": "code",
   "execution_count": null,
   "metadata": {
    "collapsed": true
   },
   "outputs": [],
   "source": []
  },
  {
   "cell_type": "code",
   "execution_count": null,
   "metadata": {
    "collapsed": true
   },
   "outputs": [],
   "source": []
  }
 ],
 "metadata": {
  "kernelspec": {
   "display_name": "Python 3",
   "language": "python",
   "name": "python3"
  },
  "language_info": {
   "codemirror_mode": {
    "name": "ipython",
    "version": 3
   },
   "file_extension": ".py",
   "mimetype": "text/x-python",
   "name": "python",
   "nbconvert_exporter": "python",
   "pygments_lexer": "ipython3",
   "version": "3.6.1"
  }
 },
 "nbformat": 4,
 "nbformat_minor": 2
}
