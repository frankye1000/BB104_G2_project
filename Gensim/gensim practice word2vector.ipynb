{
 "cells": [
  {
   "cell_type": "code",
   "execution_count": 18,
   "metadata": {
    "collapsed": true,
    "scrolled": true
   },
   "outputs": [],
   "source": [
    "from gensim.models import Word2Vec\n",
    "from gensim.models import word2vec"
   ]
  },
  {
   "cell_type": "code",
   "execution_count": 19,
   "metadata": {
    "collapsed": true
   },
   "outputs": [],
   "source": [
    "### 避免大量讀取所以採用Text8Corpus 或 LineSentence\n",
    "sentences = word2vec.Text8Corpus(\"All_news.txt\")"
   ]
  },
  {
   "cell_type": "code",
   "execution_count": 20,
   "metadata": {
    "collapsed": true
   },
   "outputs": [],
   "source": [
    "#sentences = word2vec.LineSentence(\"All_news.txt\")"
   ]
  },
  {
   "cell_type": "code",
   "execution_count": 21,
   "metadata": {
    "collapsed": true
   },
   "outputs": [],
   "source": [
    "model = Word2Vec(sentences, size=100, window=5, min_count=40, workers=4)"
   ]
  },
  {
   "cell_type": "code",
   "execution_count": 22,
   "metadata": {
    "collapsed": true
   },
   "outputs": [],
   "source": [
    "model.init_sims(replace=True)"
   ]
  },
  {
   "cell_type": "code",
   "execution_count": 23,
   "metadata": {
    "collapsed": true
   },
   "outputs": [],
   "source": [
    "model_name = \"train_model\"\n",
    "model.save(model_name)"
   ]
  },
  {
   "cell_type": "code",
   "execution_count": 24,
   "metadata": {
    "collapsed": true
   },
   "outputs": [],
   "source": [
    "model = Word2Vec.load(\"train_model\")"
   ]
  },
  {
   "cell_type": "code",
   "execution_count": 25,
   "metadata": {
    "scrolled": true
   },
   "outputs": [
    {
     "data": {
      "text/plain": [
       "array([ 0.20860048, -0.01500047, -0.11249941, -0.06378035, -0.04268809,\n",
       "        0.04901266,  0.0092621 , -0.08996667,  0.04232163, -0.01880201,\n",
       "       -0.00427498,  0.02339412,  0.00562852,  0.07817627,  0.10720391,\n",
       "       -0.10495871,  0.04868343,  0.12056687, -0.07222439, -0.03410139,\n",
       "       -0.06433679, -0.03259719, -0.02504361,  0.02395127, -0.07078717,\n",
       "       -0.14194481, -0.12742913, -0.02966428, -0.05965255, -0.15281646,\n",
       "       -0.07312664, -0.09564595,  0.09185385,  0.10492281,  0.0706504 ,\n",
       "       -0.05646063, -0.03576303, -0.03689541, -0.10918657, -0.1350621 ,\n",
       "       -0.07811412, -0.04332095,  0.11778671, -0.01794853,  0.09660799,\n",
       "       -0.0644262 ,  0.03813519,  0.10091606,  0.22045709,  0.02645211,\n",
       "        0.20811388, -0.09763051,  0.16654563, -0.04179036,  0.04771647,\n",
       "       -0.16937724, -0.05568644, -0.11937857,  0.06887757, -0.04682285,\n",
       "       -0.07948616, -0.08446467,  0.04608831, -0.01569129, -0.01343054,\n",
       "       -0.04174469,  0.07670014,  0.12527607,  0.20491588,  0.04147822,\n",
       "        0.03942499,  0.00880221,  0.08783115,  0.04896535,  0.02110998,\n",
       "        0.23344512, -0.03346211,  0.06363337, -0.00442929, -0.13961695,\n",
       "        0.09643217, -0.3099924 , -0.20931479,  0.15852252, -0.05093068,\n",
       "       -0.16615054,  0.10051733,  0.05352787,  0.08899999, -0.17738192,\n",
       "       -0.03199777, -0.00635611,  0.02636337,  0.15452376, -0.1050953 ,\n",
       "        0.06663702,  0.03217848, -0.09859347,  0.06559313,  0.01779808], dtype=float32)"
      ]
     },
     "execution_count": 25,
     "metadata": {},
     "output_type": "execute_result"
    }
   ],
   "source": [
    "### 這個字的向量，因為我設size=100，所以它有100個向量\n",
    "model.wv[\"反服貿\"]"
   ]
  },
  {
   "cell_type": "code",
   "execution_count": 26,
   "metadata": {},
   "outputs": [
    {
     "data": {
      "text/plain": [
       "0.29529490461534791"
      ]
     },
     "execution_count": 26,
     "metadata": {},
     "output_type": "execute_result"
    }
   ],
   "source": [
    "### 計算柯文哲和柯文哲的相似度\n",
    "model.similarity(\"柯文哲\",\"蔡英文\")"
   ]
  },
  {
   "cell_type": "code",
   "execution_count": 27,
   "metadata": {
    "scrolled": true
   },
   "outputs": [
    {
     "data": {
      "text/plain": [
       "[('朋友', 0.49163001775741577),\n",
       " ('同性', 0.46788573265075684),\n",
       " ('婚姻平權', 0.46621349453926086),\n",
       " ('同婚', 0.4648476839065552),\n",
       " ('同性婚姻', 0.4537274241447449),\n",
       " ('婚姻', 0.45167362689971924),\n",
       " ('民法', 0.45134833455085754),\n",
       " ('伴侶', 0.445056289434433),\n",
       " ('相愛', 0.4238216280937195),\n",
       " ('團結', 0.4238051176071167),\n",
       " ('異性戀', 0.4090595841407776),\n",
       " ('平權', 0.40813469886779785),\n",
       " ('有志之士', 0.4030120372772217),\n",
       " ('年輕人', 0.4024915099143982),\n",
       " ('全黨', 0.3981853127479553),\n",
       " ('族群', 0.39620694518089294),\n",
       " ('同性戀', 0.39348605275154114),\n",
       " ('一代', 0.39340850710868835),\n",
       " ('新住民', 0.39074987173080444),\n",
       " ('艱難', 0.38993749022483826)]"
      ]
     },
     "execution_count": 27,
     "metadata": {},
     "output_type": "execute_result"
    }
   ],
   "source": [
    "### \"服貿\"-\"黑箱\" == \"同志\"-\"?\"\n",
    "model.wv.most_similar(positive=['服貿', '同志'], negative=['黑箱'],topn=20)"
   ]
  },
  {
   "cell_type": "code",
   "execution_count": null,
   "metadata": {},
   "outputs": [],
   "source": [
    "### \"反服貿\"-\"黑箱\" == \"獵雷艦\"-\"?\"\n",
    "model.wv.most_similar_cosmul(positive=['反服貿', '獵雷艦'], negative=['黑箱'])"
   ]
  },
  {
   "cell_type": "code",
   "execution_count": 29,
   "metadata": {},
   "outputs": [
    {
     "data": {
      "text/plain": [
       "'馬英九'"
      ]
     },
     "execution_count": 29,
     "metadata": {},
     "output_type": "execute_result"
    }
   ],
   "source": [
    "### 找出哪個單詞最不符合\n",
    "model.wv.doesnt_match(\"漢翔 獵雷艦案 幻象 馬英九\".split())"
   ]
  },
  {
   "cell_type": "code",
   "execution_count": null,
   "metadata": {},
   "outputs": [],
   "source": []
  },
  {
   "cell_type": "code",
   "execution_count": null,
   "metadata": {
    "collapsed": true
   },
   "outputs": [],
   "source": []
  }
 ],
 "metadata": {
  "kernelspec": {
   "display_name": "Python 3",
   "language": "python",
   "name": "python3"
  },
  "language_info": {
   "codemirror_mode": {
    "name": "ipython",
    "version": 3
   },
   "file_extension": ".py",
   "mimetype": "text/x-python",
   "name": "python",
   "nbconvert_exporter": "python",
   "pygments_lexer": "ipython3",
   "version": "3.6.1"
  }
 },
 "nbformat": 4,
 "nbformat_minor": 2
}
