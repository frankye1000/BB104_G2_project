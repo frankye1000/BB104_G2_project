{
 "cells": [
  {
   "cell_type": "code",
   "execution_count": 127,
   "metadata": {
    "collapsed": true
   },
   "outputs": [],
   "source": [
    "from sklearn.feature_extraction.text import CountVectorizer"
   ]
  },
  {
   "cell_type": "code",
   "execution_count": 128,
   "metadata": {
    "collapsed": true
   },
   "outputs": [],
   "source": [
    "from pymongo import MongoClient"
   ]
  },
  {
   "cell_type": "code",
   "execution_count": 129,
   "metadata": {
    "collapsed": true
   },
   "outputs": [],
   "source": [
    "client = MongoClient(\"mongodb://127.0.0.1:27017\")"
   ]
  },
  {
   "cell_type": "code",
   "execution_count": 130,
   "metadata": {
    "collapsed": true
   },
   "outputs": [],
   "source": [
    "db = client[\"<db name>\"]"
   ]
  },
  {
   "cell_type": "code",
   "execution_count": 131,
   "metadata": {
    "collapsed": true
   },
   "outputs": [],
   "source": [
    "collections = db[\"<collection name>\"]"
   ]
  },
  {
   "cell_type": "code",
   "execution_count": 132,
   "metadata": {
    "collapsed": true
   },
   "outputs": [],
   "source": [
    "contents = collections.find({},{\"content\":1,\"_id\":0})"
   ]
  },
  {
   "cell_type": "code",
   "execution_count": 133,
   "metadata": {
    "collapsed": true
   },
   "outputs": [],
   "source": [
    "counter = 0\n",
    "list_content =[]\n",
    "for content in contents:\n",
    "    list_content.append(content[\"content\"]+\"%s\"%counter)\n",
    "    counter+=1"
   ]
  },
  {
   "cell_type": "code",
   "execution_count": null,
   "metadata": {
    "collapsed": true
   },
   "outputs": [],
   "source": []
  },
  {
   "cell_type": "code",
   "execution_count": 135,
   "metadata": {
    "collapsed": true
   },
   "outputs": [],
   "source": [
    "vectorizer = CountVectorizer()\n",
    "X = vectorizer.fit_transform(list_content)"
   ]
  },
  {
   "cell_type": "code",
   "execution_count": 136,
   "metadata": {
    "collapsed": true
   },
   "outputs": [],
   "source": [
    "from sklearn.feature_extraction.text import TfidfTransformer\n",
    "transformer = TfidfTransformer()\n",
    "tfidf = transformer.fit_transform(X)"
   ]
  },
  {
   "cell_type": "code",
   "execution_count": 140,
   "metadata": {},
   "outputs": [
    {
     "data": {
      "text/plain": [
       "array([False, False, False, ..., False, False, False], dtype=bool)"
      ]
     },
     "execution_count": 140,
     "metadata": {},
     "output_type": "execute_result"
    }
   ],
   "source": [
    "from sklearn.metrics.pairwise import cosine_similarity\n",
    "li = cosine_similarity(tfidf[536],tfidf)[0] > 0.20\n",
    "li"
   ]
  },
  {
   "cell_type": "code",
   "execution_count": null,
   "metadata": {
    "collapsed": true
   },
   "outputs": [],
   "source": []
  },
  {
   "cell_type": "code",
   "execution_count": null,
   "metadata": {
    "collapsed": true
   },
   "outputs": [],
   "source": []
  },
  {
   "cell_type": "code",
   "execution_count": 141,
   "metadata": {
    "collapsed": true
   },
   "outputs": [],
   "source": [
    "titles = collections.find({},{\"title\":1,\"_id\":0})\n",
    "import numpy as np\n",
    "list_title =[i[\"title\"] for i in titles]\n",
    "lp = np.array(list_title)\n"
   ]
  },
  {
   "cell_type": "code",
   "execution_count": 142,
   "metadata": {
    "scrolled": true
   },
   "outputs": [
    {
     "name": "stdout",
     "output_type": "stream",
     "text": [
      "任期進入後半段 拚民調回升 翻身關鍵 柯傾全力辦世大運\n",
      "6都市長滿意度民調 陳菊奪冠 柯P墊底\n",
      "民調僅35％ 競爭者紛浮出檯面 柯P：我最大的敵人是柯文哲\n",
      "柯P表態要連任 藍轟做很爛 綠批壞心眼 王世堅：未來2年不會放過他\n",
      "柯P拚連任 呂秀蓮：民進黨再不提候選人 就是「自我貶損」\n",
      "柯P民調 北市無敵 藍綠重量級人選 都非對手\n",
      "綠營難布局 藍營露曙光\n",
      "民調雖小贏 柯P有連任危機\n",
      "選對議題開炮 柯滿意度回升\n",
      "民調個個是第一 詹啟賢質疑真假\n",
      "無視民意下滑 就是權力傲慢\n",
      "柯P：兩岸真正親 應互相體諒\n",
      "政治人物好感度民調 陳菊奪榜首 侯友宜勇冠藍軍\n",
      "柯文哲搶得兩岸話語權！羅智強籲國民黨提出更完整論述\n",
      "林濁水：蔡價值模糊 柯脫穎而出\n",
      "滿意度大贏蔡、吳 柯：做對的事 別想東想西\n",
      "兩岸論述 柯聲望達總統級\n",
      "掌握話語制空權 吃定藍綠！北市長選戰 柯聲望倒吃甘蔗\n",
      "民調：78％北市民不知開幕日 柯Ｐ諷：15％不知總統是誰\n",
      "柯吉拉辦世大運 66％有信心\n",
      "柯P自信 辦好世大運沒問題\n",
      "政壇異形 柯Ｐ的變與不變\n",
      "衝刺世大運 柯P一個人的戰爭\n",
      "兩大功臣 曲終人散？鄭芳梵求去 蘇麗瓊神隱\n",
      "世大運鍍金 柯滿意度衝5成5\n",
      "綠不急與柯P聯手 先看世大運\n",
      "獨家觀點－柯文哲 有夠威\n",
      "政壇14要角 柯滿意度68％居冠\n",
      "基層反柯 黨中央電話被打爆\n",
      "新聞透視－挺過民進黨壓力鍋 柯立不敗之地\n",
      "北市長 綠：只要柯最強 就挺\n",
      "姚文智聲勢翻轉 領先顧立雄\n",
      "民調贏連 柯文哲：參考就好\n",
      "柯文哲民調勝出 代表在野出征大勢定\n",
      "連營：柯掛羊頭賣狗肉\n",
      "柯拉警報 連看好度超前4.6％\n",
      "趨勢民調：連柯誰贏誰輸難講\n",
      "連營：現在斷勝負 言之過早\n",
      "胡志強：有信心贏 林佳龍：質疑數據\n",
      "郝提點柯 世大運是大挑戰\n",
      "柯文哲第3位副手 女性優先\n",
      "綠營民調 洪上升 老宋吊車尾\n",
      "大砍小確幸 不怕被吐槽 民調高低「I don’t care」\n",
      "旺旺中時民調 柯P滿意度下滑 藍綠媒皆用 只有王丹酸\n",
      "滿意度剩47％ 柯文哲神回：塞車跟總統大選有關\n",
      "柯文哲滿意度新低 恐現死亡交叉\n",
      "「有壓力 但晚上還是睡得著」 民調吊車尾 柯P：蠻丟臉的\n",
      "缺席場館進度記者會 主帥躲起來？在政院開會啦\n",
      "世大運執委會 也爆離職潮\n",
      "跌跌跌 柯P官版民調滿意度剩42.4％\n",
      "世大運聖火到大陸 北市府期待\n"
     ]
    }
   ],
   "source": [
    "for tit in lp[li]:\n",
    "    print(tit)"
   ]
  },
  {
   "cell_type": "code",
   "execution_count": null,
   "metadata": {
    "collapsed": true
   },
   "outputs": [],
   "source": []
  }
 ],
 "metadata": {
  "kernelspec": {
   "display_name": "Python 3",
   "language": "python",
   "name": "python3"
  },
  "language_info": {
   "codemirror_mode": {
    "name": "ipython",
    "version": 3
   },
   "file_extension": ".py",
   "mimetype": "text/x-python",
   "name": "python",
   "nbconvert_exporter": "python",
   "pygments_lexer": "ipython3",
   "version": "3.6.1"
  }
 },
 "nbformat": 4,
 "nbformat_minor": 2
}
